{
 "cells": [
  {
   "cell_type": "markdown",
   "id": "0f1cc936",
   "metadata": {},
   "source": [
    "## Import the libraries"
   ]
  },
  {
   "cell_type": "code",
   "execution_count": 1,
   "id": "22425963",
   "metadata": {},
   "outputs": [],
   "source": [
    "import tensorflow as tf\n",
    "from tensorflow import keras\n",
    "\n",
    "import numpy as np\n",
    "import matplotlib.pyplot as plt"
   ]
  },
  {
   "cell_type": "markdown",
   "id": "47460ea7",
   "metadata": {},
   "source": [
    "## MNIST Fashion Dataset"
   ]
  },
  {
   "cell_type": "code",
   "execution_count": 2,
   "id": "efc29aae",
   "metadata": {},
   "outputs": [],
   "source": [
    "fashion_mnist = keras.datasets.fashion_mnist\n",
    "# Split into training and testing\n",
    "(train_images, train_labels), (test_images, test_labels) = fashion_mnist.load_data()"
   ]
  },
  {
   "cell_type": "code",
   "execution_count": 3,
   "id": "7ed15892",
   "metadata": {
    "scrolled": true
   },
   "outputs": [
    {
     "data": {
      "text/plain": [
       "(60000, 28, 28)"
      ]
     },
     "execution_count": 3,
     "metadata": {},
     "output_type": "execute_result"
    }
   ],
   "source": [
    "train_images.shape"
   ]
  },
  {
   "cell_type": "code",
   "execution_count": 4,
   "id": "a2f07c03",
   "metadata": {},
   "outputs": [],
   "source": [
    "# From the code above we can see that we have 60.000 images that are made up of \n",
    "# 28x28 pixels (784 in total)"
   ]
  },
  {
   "cell_type": "code",
   "execution_count": 5,
   "id": "5dcf5e2b",
   "metadata": {},
   "outputs": [
    {
     "data": {
      "text/plain": [
       "(10000, 28, 28)"
      ]
     },
     "execution_count": 5,
     "metadata": {},
     "output_type": "execute_result"
    }
   ],
   "source": [
    "test_images.shape"
   ]
  },
  {
   "cell_type": "code",
   "execution_count": 6,
   "id": "e7dd008b",
   "metadata": {},
   "outputs": [],
   "source": [
    "# For testing, we have 10.000 observations"
   ]
  },
  {
   "cell_type": "code",
   "execution_count": 7,
   "id": "29c35e30",
   "metadata": {},
   "outputs": [],
   "source": [
    "# Below, we will take a look at one pixel"
   ]
  },
  {
   "cell_type": "code",
   "execution_count": 8,
   "id": "b9394afc",
   "metadata": {},
   "outputs": [
    {
     "data": {
      "text/plain": [
       "194"
      ]
     },
     "execution_count": 8,
     "metadata": {},
     "output_type": "execute_result"
    }
   ],
   "source": [
    "train_images[0, 23, 23]"
   ]
  },
  {
   "cell_type": "code",
   "execution_count": 9,
   "id": "291e07e1",
   "metadata": {},
   "outputs": [],
   "source": [
    "# Our pixel values are between 0 and 255, 0 being black and 255 being white."
   ]
  },
  {
   "cell_type": "code",
   "execution_count": 10,
   "id": "750b703c",
   "metadata": {},
   "outputs": [
    {
     "data": {
      "text/plain": [
       "array([9, 0, 0, 3, 0, 2, 7, 2, 5, 5], dtype=uint8)"
      ]
     },
     "execution_count": 10,
     "metadata": {},
     "output_type": "execute_result"
    }
   ],
   "source": [
    "train_labels[:10]"
   ]
  },
  {
   "cell_type": "code",
   "execution_count": 11,
   "id": "21445527",
   "metadata": {},
   "outputs": [],
   "source": [
    "# Our labels are integers ranging from 0 to 9. Eacah integer is a specific article\n",
    "# of clothing. We'll create an array of label names."
   ]
  },
  {
   "cell_type": "code",
   "execution_count": 12,
   "id": "197b4e27",
   "metadata": {},
   "outputs": [],
   "source": [
    "class_names = ['T-shirt/top', 'Trouser', 'Pullover', 'Dress', 'Coat',\n",
    "              'Sandal', 'Shirt', 'Sneaker', 'Bag', 'Ankle boot']"
   ]
  },
  {
   "cell_type": "markdown",
   "id": "734ff452",
   "metadata": {},
   "source": [
    "#### Below, we will take a look at how our images look like"
   ]
  },
  {
   "cell_type": "code",
   "execution_count": 13,
   "id": "f3c08401",
   "metadata": {},
   "outputs": [
    {
     "data": {
      "image/png": "[encoded data removed]",
      "text/plain": [
       "<Figure size 432x288 with 2 Axes>"
      ]
     },
     "metadata": {
      "needs_background": "light"
     },
     "output_type": "display_data"
    }
   ],
   "source": [
    "plt.figure()\n",
    "plt.imshow(train_images[6])\n",
    "plt.colorbar()\n",
    "plt.grid(False)\n",
    "plt.show()"
   ]
  },
  {
   "cell_type": "markdown",
   "id": "6e8f883c",
   "metadata": {},
   "source": [
    "## Data Preprocessing"
   ]
  },
  {
   "cell_type": "markdown",
   "id": "d0f8cb26",
   "metadata": {},
   "source": [
    "#### First, we will scale our greyscale pixel values to be between 0 and 1."
   ]
  },
  {
   "cell_type": "code",
   "execution_count": 14,
   "id": "67ee6e4c",
   "metadata": {},
   "outputs": [],
   "source": [
    "train_images = train_images / 255.0\n",
    "test_images = test_images / 255.0"
   ]
  },
  {
   "cell_type": "code",
   "execution_count": 15,
   "id": "640e5609",
   "metadata": {},
   "outputs": [],
   "source": [
    "# Sequential = from the left side, to the right side, passing through the layers"
   ]
  },
  {
   "cell_type": "markdown",
   "id": "fb2a84dc",
   "metadata": {},
   "source": [
    "## Creating the model"
   ]
  },
  {
   "cell_type": "code",
   "execution_count": 16,
   "id": "3093d427",
   "metadata": {},
   "outputs": [],
   "source": [
    "model = keras.Sequential([\n",
    "    keras.layers.Flatten(input_shape=(28, 28)),  # input layer\n",
    "    keras.layers.Dense(128, activation='relu'),  # hidden layer\n",
    "    keras.layers.Dense(10, activation='softmax') # output layer\n",
    "])"
   ]
  },
  {
   "cell_type": "markdown",
   "id": "0f32bd90",
   "metadata": {},
   "source": [
    "## Compiling the model"
   ]
  },
  {
   "cell_type": "code",
   "execution_count": 17,
   "id": "83dca743",
   "metadata": {},
   "outputs": [],
   "source": [
    "model.compile(optimizer='adam',\n",
    "              loss='sparse_categorical_crossentropy',\n",
    "              metrics=['accuracy'])"
   ]
  },
  {
   "cell_type": "markdown",
   "id": "b824f6d5",
   "metadata": {},
   "source": [
    "## Train the model"
   ]
  },
  {
   "cell_type": "code",
   "execution_count": 18,
   "id": "19e2c17b",
   "metadata": {},
   "outputs": [
    {
     "name": "stdout",
     "output_type": "stream",
     "text": [
      "1875/1875 [==============================] - 7s 3ms/step - loss: 0.4959 - accuracy: 0.8245\n"
     ]
    },
    {
     "data": {
      "text/plain": [
       "<keras.callbacks.History at 0x207dc8fa490>"
      ]
     },
     "execution_count": 18,
     "metadata": {},
     "output_type": "execute_result"
    }
   ],
   "source": [
    "model.fit(train_images, train_labels, epochs=1) # data, labels and epochs(iterations)"
   ]
  },
  {
   "cell_type": "markdown",
   "id": "efe894ec",
   "metadata": {},
   "source": [
    "## Evaluating the model"
   ]
  },
  {
   "cell_type": "code",
   "execution_count": 19,
   "id": "accf1d52",
   "metadata": {},
   "outputs": [
    {
     "name": "stdout",
     "output_type": "stream",
     "text": [
      "313/313 [==============================] - 1s 3ms/step - loss: 0.4265 - accuracy: 0.8457\n",
      "Test accuracy: 0.8457000255584717  -  Test loss: 0.4265452027320862\n"
     ]
    }
   ],
   "source": [
    "test_loss, test_acc = model.evaluate(test_images, test_labels, verbose=1)\n",
    "\n",
    "print(f'Test accuracy: {test_acc}  -  Test loss: {test_loss}')"
   ]
  },
  {
   "cell_type": "markdown",
   "id": "3900dc63",
   "metadata": {},
   "source": [
    "## Making predictions"
   ]
  },
  {
   "cell_type": "code",
   "execution_count": 20,
   "id": "6f3d4590",
   "metadata": {},
   "outputs": [],
   "source": [
    "predictions = model.predict(test_images)"
   ]
  },
  {
   "cell_type": "code",
   "execution_count": 21,
   "id": "c76dac76",
   "metadata": {},
   "outputs": [
    {
     "data": {
      "text/plain": [
       "array([[2.7897118e-05, 7.4327500e-07, 6.3485618e-06, ..., 1.7764787e-01,\n",
       "        1.2748425e-03, 7.8176469e-01],\n",
       "       [2.8523002e-04, 7.3708628e-07, 9.6381396e-01, ..., 2.3088695e-08,\n",
       "        1.7836894e-05, 8.0759452e-09],\n",
       "       [8.9219911e-06, 9.9992263e-01, 4.0097193e-06, ..., 6.6223329e-09,\n",
       "        2.6123098e-07, 1.3959355e-09],\n",
       "       ...,\n",
       "       [2.8207267e-02, 1.4921990e-06, 1.2446607e-03, ..., 2.7774161e-04,\n",
       "        9.0530026e-01, 2.3189741e-06],\n",
       "       [6.1370670e-06, 9.9945170e-01, 7.5749140e-06, ..., 5.9156413e-08,\n",
       "        3.6486682e-07, 8.8133260e-07],\n",
       "       [7.4932259e-04, 2.4475396e-05, 1.7017670e-03, ..., 1.3979983e-01,\n",
       "        2.3708409e-02, 1.0074971e-02]], dtype=float32)"
      ]
     },
     "execution_count": 21,
     "metadata": {},
     "output_type": "execute_result"
    }
   ],
   "source": [
    "predictions"
   ]
  },
  {
   "cell_type": "code",
   "execution_count": 22,
   "id": "56515048",
   "metadata": {},
   "outputs": [
    {
     "data": {
      "text/plain": [
       "array([2.2388634e-03, 9.9062538e-01, 3.7666038e-04, 3.0091968e-03,\n",
       "       3.4935854e-03, 8.1081153e-06, 2.2573605e-04, 6.0898844e-07,\n",
       "       2.1569680e-05, 3.1350012e-07], dtype=float32)"
      ]
     },
     "execution_count": 22,
     "metadata": {},
     "output_type": "execute_result"
    }
   ],
   "source": [
    "predictions[5]"
   ]
  },
  {
   "cell_type": "markdown",
   "id": "6dfc55be",
   "metadata": {},
   "source": [
    "## Verifying predictions"
   ]
  },
  {
   "cell_type": "code",
   "execution_count": 23,
   "id": "341fbbf0",
   "metadata": {},
   "outputs": [
    {
     "data": {
      "text/plain": [
       "1"
      ]
     },
     "execution_count": 23,
     "metadata": {},
     "output_type": "execute_result"
    }
   ],
   "source": [
    "np.argmax(predictions[5])"
   ]
  },
  {
   "cell_type": "code",
   "execution_count": 24,
   "id": "806c4e4b",
   "metadata": {},
   "outputs": [
    {
     "name": "stdout",
     "output_type": "stream",
     "text": [
      "Trouser\n"
     ]
    }
   ],
   "source": [
    "print(class_names[np.argmax(predictions[5])])"
   ]
  },
  {
   "cell_type": "code",
   "execution_count": 25,
   "id": "0ba397da",
   "metadata": {
    "scrolled": true
   },
   "outputs": [
    {
     "data": {
      "image/png": "[encoded data removed]",
      "text/plain": [
       "<Figure size 432x288 with 2 Axes>"
      ]
     },
     "metadata": {
      "needs_background": "light"
     },
     "output_type": "display_data"
    }
   ],
   "source": [
    "plt.figure()\n",
    "plt.imshow(test_images[5])\n",
    "plt.colorbar()\n",
    "plt.grid(False)\n",
    "plt.show()"
   ]
  },
  {
   "cell_type": "code",
   "execution_count": 26,
   "id": "f0ecb836",
   "metadata": {},
   "outputs": [
    {
     "name": "stdout",
     "output_type": "stream",
     "text": [
      "Pick a number: 2\n"
     ]
    },
    {
     "data": {
      "image/png": "[encoded data removed]",
      "text/plain": [
       "<Figure size 432x288 with 2 Axes>"
      ]
     },
     "metadata": {
      "needs_background": "light"
     },
     "output_type": "display_data"
    }
   ],
   "source": [
    "COLOR = 'white'\n",
    "plt.rcParams['text.color'] = COLOR\n",
    "plt.rcParams['axes.labelcolor'] = COLOR\n",
    "\n",
    "def predict(model, image, correct_label):\n",
    "    class_names = ['T-shirt/top', 'Trouser', 'Pullover', 'Dress', 'Coat',\n",
    "                   'Sandal', 'Shirt', 'Sneaker', 'Bag', 'Ankle boot']\n",
    "    prediction = model.predict(np.array([image]))\n",
    "    predicted_class = class_names[np.argmax(prediction)]\n",
    "\n",
    "    show_image(image, class_names[correct_label], predicted_class)\n",
    "\n",
    "\n",
    "def show_image(img, label, guess):\n",
    "    plt.figure()\n",
    "    plt.imshow(img, cmap=plt.cm.binary)\n",
    "    plt.title(\"Excpected: \" + label)\n",
    "    plt.xlabel(\"Guess: \" + guess)\n",
    "    plt.colorbar()\n",
    "    plt.grid(False)\n",
    "    plt.show()\n",
    "    \n",
    "\n",
    "def get_number():\n",
    "    while True:\n",
    "        num = input(\"Pick a number: \")\n",
    "        if num.isdigit():\n",
    "            num = int(num)\n",
    "            if 0 <= num <= 1000:\n",
    "                return int(num)\n",
    "        else:\n",
    "            print(\"Try again...\")\n",
    "\n",
    "num = get_number()\n",
    "image = test_images[num]\n",
    "label = test_labels[num]\n",
    "predict(model, image, label)"
   ]
  }
 ],
 "metadata": {
  "kernelspec": {
   "display_name": "Python 3 (ipykernel)",
   "language": "python",
   "name": "python3"
  },
  "language_info": {
   "codemirror_mode": {
    "name": "ipython",
    "version": 3
   },
   "file_extension": ".py",
   "mimetype": "text/x-python",
   "name": "python",
   "nbconvert_exporter": "python",
   "pygments_lexer": "ipython3",
   "version": "3.9.4"
  }
 },
 "nbformat": 4,
 "nbformat_minor": 5
}
