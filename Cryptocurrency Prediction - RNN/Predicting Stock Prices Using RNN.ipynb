{
 "cells": [
  {
   "cell_type": "markdown",
   "id": "824b07d8",
   "metadata": {},
   "source": [
    "# 1. Importing the Libraries"
   ]
  },
  {
   "cell_type": "code",
   "execution_count": 1,
   "id": "ba2f505d",
   "metadata": {},
   "outputs": [],
   "source": [
    "import numpy as np\n",
    "import matplotlib.pyplot as plt\n",
    "import pandas as pd\n",
    "import pandas_datareader as web\n",
    "import datetime as dt\n",
    "\n",
    "from sklearn.preprocessing import MinMaxScaler\n",
    "from tensorflow.keras.models import Sequential\n",
    "from tensorflow.keras.layers import Dense, Dropout, LSTM"
   ]
  },
  {
   "cell_type": "markdown",
   "id": "5bf9e2c4",
   "metadata": {},
   "source": [
    "# 2. Loading the Data"
   ]
  },
  {
   "cell_type": "code",
   "execution_count": 2,
   "id": "50655a01",
   "metadata": {},
   "outputs": [],
   "source": [
    "crypto = 'ADA-USD'\n",
    "\n",
    "start = dt.datetime(2020, 1, 1)\n",
    "end = dt.datetime(2021, 9, 2)"
   ]
  },
  {
   "cell_type": "code",
   "execution_count": 3,
   "id": "c46b766c",
   "metadata": {},
   "outputs": [],
   "source": [
    "data = web.DataReader(crypto, 'yahoo', start, end)"
   ]
  },
  {
   "cell_type": "code",
   "execution_count": 4,
   "id": "3661713a",
   "metadata": {},
   "outputs": [
    {
     "data": {
      "text/html": [
       "<div>\n",
       "<style scoped>\n",
       "    .dataframe tbody tr th:only-of-type {\n",
       "        vertical-align: middle;\n",
       "    }\n",
       "\n",
       "    .dataframe tbody tr th {\n",
       "        vertical-align: top;\n",
       "    }\n",
       "\n",
       "    .dataframe thead th {\n",
       "        text-align: right;\n",
       "    }\n",
       "</style>\n",
       "<table border=\"1\" class=\"dataframe\">\n",
       "  <thead>\n",
       "    <tr style=\"text-align: right;\">\n",
       "      <th></th>\n",
       "      <th>High</th>\n",
       "      <th>Low</th>\n",
       "      <th>Open</th>\n",
       "      <th>Close</th>\n",
       "      <th>Volume</th>\n",
       "      <th>Adj Close</th>\n",
       "    </tr>\n",
       "    <tr>\n",
       "      <th>Date</th>\n",
       "      <th></th>\n",
       "      <th></th>\n",
       "      <th></th>\n",
       "      <th></th>\n",
       "      <th></th>\n",
       "      <th></th>\n",
       "    </tr>\n",
       "  </thead>\n",
       "  <tbody>\n",
       "    <tr>\n",
       "      <th>2021-08-29</th>\n",
       "      <td>2.885242</td>\n",
       "      <td>2.724317</td>\n",
       "      <td>2.850741</td>\n",
       "      <td>2.733160</td>\n",
       "      <td>5.221152e+09</td>\n",
       "      <td>2.733160</td>\n",
       "    </tr>\n",
       "    <tr>\n",
       "      <th>2021-08-30</th>\n",
       "      <td>2.877878</td>\n",
       "      <td>2.706473</td>\n",
       "      <td>2.737641</td>\n",
       "      <td>2.772475</td>\n",
       "      <td>5.085984e+09</td>\n",
       "      <td>2.772475</td>\n",
       "    </tr>\n",
       "    <tr>\n",
       "      <th>2021-08-31</th>\n",
       "      <td>2.902614</td>\n",
       "      <td>2.726327</td>\n",
       "      <td>2.769947</td>\n",
       "      <td>2.870767</td>\n",
       "      <td>4.652639e+09</td>\n",
       "      <td>2.870767</td>\n",
       "    </tr>\n",
       "    <tr>\n",
       "      <th>2021-09-01</th>\n",
       "      <td>3.099186</td>\n",
       "      <td>2.839781</td>\n",
       "      <td>2.869750</td>\n",
       "      <td>2.963438</td>\n",
       "      <td>7.376032e+09</td>\n",
       "      <td>2.963438</td>\n",
       "    </tr>\n",
       "    <tr>\n",
       "      <th>2021-09-02</th>\n",
       "      <td>3.029436</td>\n",
       "      <td>2.907606</td>\n",
       "      <td>2.959315</td>\n",
       "      <td>2.968239</td>\n",
       "      <td>5.244577e+09</td>\n",
       "      <td>2.968239</td>\n",
       "    </tr>\n",
       "  </tbody>\n",
       "</table>\n",
       "</div>"
      ],
      "text/plain": [
       "                High       Low      Open     Close        Volume  Adj Close\n",
       "Date                                                                       \n",
       "2021-08-29  2.885242  2.724317  2.850741  2.733160  5.221152e+09   2.733160\n",
       "2021-08-30  2.877878  2.706473  2.737641  2.772475  5.085984e+09   2.772475\n",
       "2021-08-31  2.902614  2.726327  2.769947  2.870767  4.652639e+09   2.870767\n",
       "2021-09-01  3.099186  2.839781  2.869750  2.963438  7.376032e+09   2.963438\n",
       "2021-09-02  3.029436  2.907606  2.959315  2.968239  5.244577e+09   2.968239"
      ]
     },
     "execution_count": 4,
     "metadata": {},
     "output_type": "execute_result"
    }
   ],
   "source": [
    "data.tail()"
   ]
  },
  {
   "cell_type": "markdown",
   "id": "52d8b89f",
   "metadata": {},
   "source": [
    "# 3. Preparing the Data"
   ]
  },
  {
   "cell_type": "code",
   "execution_count": 5,
   "id": "c764ce4b",
   "metadata": {},
   "outputs": [
    {
     "data": {
      "text/plain": [
       "'Normalizing the input features using MinMaxScaler. All the features will be transformed into the \\nrange [0,1] meaning that the minimum and maximum value of a variable are going to be 0 and 1.'"
      ]
     },
     "execution_count": 5,
     "metadata": {},
     "output_type": "execute_result"
    }
   ],
   "source": [
    "'''Normalizing the input features using MinMaxScaler. All the features will be transformed into the \n",
    "range [0,1] meaning that the minimum and maximum value of a variable are going to be 0 and 1.'''"
   ]
  },
  {
   "cell_type": "code",
   "execution_count": 6,
   "id": "b5312e05",
   "metadata": {},
   "outputs": [
    {
     "data": {
      "text/plain": [
       "'values.reshape(-1, 1) is like asking numpy to suggest us a number of columns or rows to get reshaped in'"
      ]
     },
     "execution_count": 6,
     "metadata": {},
     "output_type": "execute_result"
    }
   ],
   "source": [
    "scaler = MinMaxScaler(feature_range=(0,1))\n",
    "scaled_data = scaler.fit_transform(data['Close'].values.reshape(-1, 1))\n",
    "\n",
    "'values.reshape(-1, 1) is like asking numpy to suggest us a number of columns or rows to get reshaped in'"
   ]
  },
  {
   "cell_type": "code",
   "execution_count": 7,
   "id": "21f51d72",
   "metadata": {},
   "outputs": [
    {
     "data": {
      "text/plain": [
       "'Furter we will choose the number of days that will help with the prediction'"
      ]
     },
     "execution_count": 7,
     "metadata": {},
     "output_type": "execute_result"
    }
   ],
   "source": [
    "'Furter we will choose the number of days that will help with the prediction'"
   ]
  },
  {
   "cell_type": "code",
   "execution_count": 8,
   "id": "3b8fdeaf",
   "metadata": {},
   "outputs": [],
   "source": [
    "prediction_days = 60"
   ]
  },
  {
   "cell_type": "code",
   "execution_count": 9,
   "id": "cd765b4e",
   "metadata": {},
   "outputs": [
    {
     "data": {
      "text/plain": [
       "'Creating our training variables'"
      ]
     },
     "execution_count": 9,
     "metadata": {},
     "output_type": "execute_result"
    }
   ],
   "source": [
    "'Creating our training variables'"
   ]
  },
  {
   "cell_type": "code",
   "execution_count": 10,
   "id": "7de85d48",
   "metadata": {},
   "outputs": [],
   "source": [
    "x_train = []\n",
    "y_train = []"
   ]
  },
  {
   "cell_type": "code",
   "execution_count": 12,
   "id": "599cad89",
   "metadata": {},
   "outputs": [
    {
     "data": {
      "text/plain": [
       "'Imagining the range like range(60, 607):'"
      ]
     },
     "execution_count": 12,
     "metadata": {},
     "output_type": "execute_result"
    }
   ],
   "source": [
    "for x in range(prediction_days, len(scaled_data)):\n",
    "    x_train.append(scaled_data[x-prediction_days:x, 0])\n",
    "    y_train.append(scaled_data[x, 0])\n",
    "    \n",
    "'Imagining the range like range(60, 607):'"
   ]
  },
  {
   "cell_type": "code",
   "execution_count": 13,
   "id": "6d12b026",
   "metadata": {},
   "outputs": [
    {
     "data": {
      "text/plain": [
       "'Below, we converted the x_train and y_train to a Numpy Array'"
      ]
     },
     "execution_count": 13,
     "metadata": {},
     "output_type": "execute_result"
    }
   ],
   "source": [
    "'Below, we converted the x_train and y_train to a Numpy Array'"
   ]
  },
  {
   "cell_type": "code",
   "execution_count": 14,
   "id": "d17fb8c1",
   "metadata": {
    "scrolled": true
   },
   "outputs": [
    {
     "data": {
      "text/plain": [
       "array([[0.00322558, 0.00298545, 0.0034708 , ..., 0.00873695, 0.00837387,\n",
       "        0.00800875],\n",
       "       [0.00298545, 0.0034708 , 0.00361175, ..., 0.00837387, 0.00800875,\n",
       "        0.00746227],\n",
       "       [0.0034708 , 0.00361175, 0.00365455, ..., 0.00800875, 0.00746227,\n",
       "        0.00848833],\n",
       "       ...,\n",
       "       [0.46968221, 0.48712213, 0.46902399, ..., 0.9618742 , 0.92015732,\n",
       "        0.93351033],\n",
       "       [0.48712213, 0.46902399, 0.47349197, ..., 0.92015732, 0.93351033,\n",
       "        0.96689445],\n",
       "       [0.46902399, 0.47349197, 0.46841942, ..., 0.93351033, 0.96689445,\n",
       "        0.99836937]])"
      ]
     },
     "execution_count": 14,
     "metadata": {},
     "output_type": "execute_result"
    }
   ],
   "source": [
    "x_train, y_train = np.array(x_train), np.array(y_train)\n",
    "x_train"
   ]
  },
  {
   "cell_type": "code",
   "execution_count": 15,
   "id": "8ad61d52",
   "metadata": {
    "scrolled": true
   },
   "outputs": [
    {
     "data": {
      "text/plain": [
       "array([[[0.00322558],\n",
       "        [0.00298545],\n",
       "        [0.0034708 ],\n",
       "        ...,\n",
       "        [0.00873695],\n",
       "        [0.00837387],\n",
       "        [0.00800875]],\n",
       "\n",
       "       [[0.00298545],\n",
       "        [0.0034708 ],\n",
       "        [0.00361175],\n",
       "        ...,\n",
       "        [0.00837387],\n",
       "        [0.00800875],\n",
       "        [0.00746227]],\n",
       "\n",
       "       [[0.0034708 ],\n",
       "        [0.00361175],\n",
       "        [0.00365455],\n",
       "        ...,\n",
       "        [0.00800875],\n",
       "        [0.00746227],\n",
       "        [0.00848833]],\n",
       "\n",
       "       ...,\n",
       "\n",
       "       [[0.46968221],\n",
       "        [0.48712213],\n",
       "        [0.46902399],\n",
       "        ...,\n",
       "        [0.9618742 ],\n",
       "        [0.92015732],\n",
       "        [0.93351033]],\n",
       "\n",
       "       [[0.48712213],\n",
       "        [0.46902399],\n",
       "        [0.47349197],\n",
       "        ...,\n",
       "        [0.92015732],\n",
       "        [0.93351033],\n",
       "        [0.96689445]],\n",
       "\n",
       "       [[0.46902399],\n",
       "        [0.47349197],\n",
       "        [0.46841942],\n",
       "        ...,\n",
       "        [0.93351033],\n",
       "        [0.96689445],\n",
       "        [0.99836937]]])"
      ]
     },
     "execution_count": 15,
     "metadata": {},
     "output_type": "execute_result"
    }
   ],
   "source": [
    "x_train = np.reshape(x_train, (x_train.shape[0], x_train.shape[1], 1))\n",
    "x_train"
   ]
  },
  {
   "cell_type": "markdown",
   "id": "8cc0985b",
   "metadata": {},
   "source": [
    "# 4. Building the Model"
   ]
  },
  {
   "cell_type": "markdown",
   "id": "fe0f4c59",
   "metadata": {},
   "source": [
    "#### LSTM - Long Short-Term Memory --> A type of recurrent neural network"
   ]
  },
  {
   "cell_type": "code",
   "execution_count": 16,
   "id": "4d44d6d6",
   "metadata": {},
   "outputs": [
    {
     "data": {
      "text/plain": [
       "'We attribute our Model to a Variable'"
      ]
     },
     "execution_count": 16,
     "metadata": {},
     "output_type": "execute_result"
    }
   ],
   "source": [
    "'We attribute our Model to a Variable'"
   ]
  },
  {
   "cell_type": "code",
   "execution_count": 17,
   "id": "445db9e1",
   "metadata": {},
   "outputs": [
    {
     "data": {
      "text/plain": [
       "'The sequential API allows us to create models layer-by-layer for most problems. \\nIt is limited in that it does not allow us to create models that share layers or have multiple inputs or outputs.'"
      ]
     },
     "execution_count": 17,
     "metadata": {},
     "output_type": "execute_result"
    }
   ],
   "source": [
    "'''The sequential API allows us to create models layer-by-layer for most problems. \n",
    "It is limited in that it does not allow us to create models that share layers or have multiple inputs or outputs.'''"
   ]
  },
  {
   "cell_type": "code",
   "execution_count": 18,
   "id": "130f77b0",
   "metadata": {},
   "outputs": [],
   "source": [
    "model = Sequential()"
   ]
  },
  {
   "cell_type": "code",
   "execution_count": 19,
   "id": "c1f657ed",
   "metadata": {},
   "outputs": [],
   "source": [
    "model.add(LSTM(units = 50, return_sequences = True, input_shape = (x_train.shape[1], 1)))\n",
    "model.add(Dropout(0.2))"
   ]
  },
  {
   "cell_type": "code",
   "execution_count": 20,
   "id": "9dd9649b",
   "metadata": {},
   "outputs": [],
   "source": [
    "model.add(LSTM(units = 50, return_sequences = True))\n",
    "model.add(Dropout(0.2))"
   ]
  },
  {
   "cell_type": "code",
   "execution_count": 21,
   "id": "6fa9f5ce",
   "metadata": {},
   "outputs": [],
   "source": [
    "model.add(LSTM(units = 50))\n",
    "model.add(Dropout(0.2))"
   ]
  },
  {
   "cell_type": "code",
   "execution_count": 22,
   "id": "47e58448",
   "metadata": {},
   "outputs": [],
   "source": [
    "model.add(Dense(units=1))  # Prediction of the next closing price"
   ]
  },
  {
   "cell_type": "code",
   "execution_count": 23,
   "id": "671eb6bd",
   "metadata": {
    "scrolled": true
   },
   "outputs": [
    {
     "name": "stdout",
     "output_type": "stream",
     "text": [
      "Epoch 1/25\n",
      "18/18 [==============================] - 8s 20ms/step - loss: 0.0358\n",
      "Epoch 2/25\n",
      "18/18 [==============================] - 0s 19ms/step - loss: 0.0064\n",
      "Epoch 3/25\n",
      "18/18 [==============================] - 0s 19ms/step - loss: 0.0052\n",
      "Epoch 4/25\n",
      "18/18 [==============================] - 0s 19ms/step - loss: 0.0036\n",
      "Epoch 5/25\n",
      "18/18 [==============================] - 0s 18ms/step - loss: 0.0037\n",
      "Epoch 6/25\n",
      "18/18 [==============================] - 0s 19ms/step - loss: 0.0066\n",
      "Epoch 7/25\n",
      "18/18 [==============================] - 0s 19ms/step - loss: 0.0040\n",
      "Epoch 8/25\n",
      "18/18 [==============================] - 0s 19ms/step - loss: 0.0032\n",
      "Epoch 9/25\n",
      "18/18 [==============================] - 0s 19ms/step - loss: 0.0032\n",
      "Epoch 10/25\n",
      "18/18 [==============================] - 0s 19ms/step - loss: 0.0042\n",
      "Epoch 11/25\n",
      "18/18 [==============================] - 0s 18ms/step - loss: 0.0034\n",
      "Epoch 12/25\n",
      "18/18 [==============================] - 0s 20ms/step - loss: 0.0031: 0s - loss: 0.00\n",
      "Epoch 13/25\n",
      "18/18 [==============================] - 0s 19ms/step - loss: 0.0030\n",
      "Epoch 14/25\n",
      "18/18 [==============================] - 0s 18ms/step - loss: 0.0032\n",
      "Epoch 15/25\n",
      "18/18 [==============================] - 0s 19ms/step - loss: 0.0032\n",
      "Epoch 16/25\n",
      "18/18 [==============================] - 0s 19ms/step - loss: 0.0025\n",
      "Epoch 17/25\n",
      "18/18 [==============================] - 0s 18ms/step - loss: 0.0025\n",
      "Epoch 18/25\n",
      "18/18 [==============================] - 0s 20ms/step - loss: 0.0025\n",
      "Epoch 19/25\n",
      "18/18 [==============================] - 0s 19ms/step - loss: 0.0035\n",
      "Epoch 20/25\n",
      "18/18 [==============================] - 0s 19ms/step - loss: 0.0029\n",
      "Epoch 21/25\n",
      "18/18 [==============================] - 0s 19ms/step - loss: 0.0029\n",
      "Epoch 22/25\n",
      "18/18 [==============================] - 0s 19ms/step - loss: 0.0025\n",
      "Epoch 23/25\n",
      "18/18 [==============================] - 0s 19ms/step - loss: 0.0028\n",
      "Epoch 24/25\n",
      "18/18 [==============================] - 0s 19ms/step - loss: 0.0026\n",
      "Epoch 25/25\n",
      "18/18 [==============================] - 0s 18ms/step - loss: 0.0027\n"
     ]
    },
    {
     "data": {
      "text/plain": [
       "<keras.callbacks.History at 0x2cfc30b16d0>"
      ]
     },
     "execution_count": 23,
     "metadata": {},
     "output_type": "execute_result"
    }
   ],
   "source": [
    "model.compile(optimizer='adam', loss='mean_squared_error')\n",
    "model.fit(x_train, y_train, epochs = 25, batch_size = 32)"
   ]
  },
  {
   "cell_type": "markdown",
   "id": "431289b2",
   "metadata": {},
   "source": [
    "# 5. Testing the Model"
   ]
  },
  {
   "cell_type": "code",
   "execution_count": 24,
   "id": "8f2d2504",
   "metadata": {},
   "outputs": [],
   "source": [
    "# Load Test Data\n",
    "test_start = dt.datetime(2020, 1, 1)\n",
    "test_end = dt.datetime.now()"
   ]
  },
  {
   "cell_type": "code",
   "execution_count": 25,
   "id": "255e03f1",
   "metadata": {},
   "outputs": [],
   "source": [
    "test_data = web.DataReader(crypto, 'yahoo', test_start, test_end)\n",
    "actual_prices = test_data['Close'].values"
   ]
  },
  {
   "cell_type": "code",
   "execution_count": 26,
   "id": "5ca87658",
   "metadata": {},
   "outputs": [],
   "source": [
    "total_dataset = pd.concat((data['Close'], test_data['Close']), axis = 0)"
   ]
  },
  {
   "cell_type": "code",
   "execution_count": 27,
   "id": "6368f30a",
   "metadata": {},
   "outputs": [],
   "source": [
    "model_inputs = total_dataset[len(total_dataset) - len(test_data) - prediction_days:].values\n",
    "model_inputs = model_inputs.reshape(-1, 1)\n",
    "model_inputs = scaler.transform(model_inputs)"
   ]
  },
  {
   "cell_type": "code",
   "execution_count": 28,
   "id": "a0d6e730",
   "metadata": {},
   "outputs": [],
   "source": [
    "# Making prediction on the Testing Data"
   ]
  },
  {
   "cell_type": "code",
   "execution_count": 29,
   "id": "a6b1c457",
   "metadata": {},
   "outputs": [],
   "source": [
    "x_test = []"
   ]
  },
  {
   "cell_type": "code",
   "execution_count": 30,
   "id": "5f698012",
   "metadata": {},
   "outputs": [],
   "source": [
    "for x in range(prediction_days, len(model_inputs)):\n",
    "    x_test.append(model_inputs[x-prediction_days:x, 0])"
   ]
  },
  {
   "cell_type": "code",
   "execution_count": 31,
   "id": "8fb9c4e9",
   "metadata": {},
   "outputs": [],
   "source": [
    "x_test = np.array(x_test)\n",
    "x_test = np.reshape(x_test, (x_test.shape[0], x_test.shape[1], 1))"
   ]
  },
  {
   "cell_type": "code",
   "execution_count": 32,
   "id": "b1e08c58",
   "metadata": {},
   "outputs": [],
   "source": [
    "predicted_prices = model.predict(x_test)\n",
    "predicted_prices = scaler.inverse_transform(predicted_prices)"
   ]
  },
  {
   "cell_type": "markdown",
   "id": "f813be66",
   "metadata": {},
   "source": [
    "."
   ]
  },
  {
   "cell_type": "markdown",
   "id": "44d3c01b",
   "metadata": {},
   "source": [
    "."
   ]
  },
  {
   "cell_type": "markdown",
   "id": "a6c28d6e",
   "metadata": {},
   "source": [
    "."
   ]
  },
  {
   "cell_type": "code",
   "execution_count": 33,
   "id": "14a98241",
   "metadata": {},
   "outputs": [],
   "source": [
    "# Plot the Test Predictions"
   ]
  },
  {
   "cell_type": "code",
   "execution_count": 34,
   "id": "18142833",
   "metadata": {},
   "outputs": [],
   "source": [
    "from matplotlib.pyplot import figure"
   ]
  },
  {
   "cell_type": "code",
   "execution_count": 37,
   "id": "bf609b61",
   "metadata": {},
   "outputs": [
    {
     "data": {
      "image/png": "[encoded data removed]",
      "text/plain": [
       "<Figure size 960x560 with 1 Axes>"
      ]
     },
     "metadata": {
      "needs_background": "light"
     },
     "output_type": "display_data"
    }
   ],
   "source": [
    "csfont = {'fontname':'Arial'}\n",
    "hfont = {'fontname':'Arial'}\n",
    "\n",
    "figure(figsize=(12, 7), dpi=80)\n",
    "plt.plot(actual_prices, color='darkblue', label=f\"Actual {crypto} Price\")\n",
    "plt.plot(predicted_prices, color='forestgreen', label=f\"Predicted {crypto} Price\")\n",
    "plt.title(f\"{crypto} Coin price\", color = 'black', size = 14, **csfont)\n",
    "plt.xlabel('Days', color = 'black', size = 13, **hfont)\n",
    "plt.ylabel(f'{crypto} Coin price', color = 'black', size = 13, **hfont)\n",
    "plt.legend()\n",
    "plt.grid()\n",
    "plt.show()"
   ]
  },
  {
   "cell_type": "code",
   "execution_count": 36,
   "id": "0bae9f4b",
   "metadata": {},
   "outputs": [],
   "source": [
    "plt.rcParams['axes.facecolor'] = 'oldlace'"
   ]
  },
  {
   "cell_type": "markdown",
   "id": "6f0cad05",
   "metadata": {},
   "source": [
    "# 6. Price Prediction - Next Day"
   ]
  },
  {
   "cell_type": "code",
   "execution_count": 38,
   "id": "9343283f",
   "metadata": {},
   "outputs": [],
   "source": [
    "real_data = [model_inputs[len(model_inputs) + 1 - prediction_days:len(model_inputs + 1), 0]]"
   ]
  },
  {
   "cell_type": "code",
   "execution_count": 39,
   "id": "2ca8cf15",
   "metadata": {},
   "outputs": [],
   "source": [
    "real_data = np.array(real_data)\n",
    "real_data = np.reshape(real_data, (real_data.shape[0], real_data.shape[1], 1))"
   ]
  },
  {
   "cell_type": "code",
   "execution_count": 40,
   "id": "baba0be1",
   "metadata": {},
   "outputs": [
    {
     "name": "stdout",
     "output_type": "stream",
     "text": [
      "WARNING:tensorflow:Model was constructed with shape (None, 60, 1) for input KerasTensor(type_spec=TensorSpec(shape=(None, 60, 1), dtype=tf.float32, name='lstm_input'), name='lstm_input', description=\"created by layer 'lstm_input'\"), but it was called on an input with incompatible shape (None, 59, 1).\n",
      "Prediction [[2.8565385]]\n"
     ]
    }
   ],
   "source": [
    "prediction = model.predict(real_data)\n",
    "prediction = scaler.inverse_transform(prediction)\n",
    "print(f\"Prediction {prediction}\")"
   ]
  },
  {
   "cell_type": "code",
   "execution_count": null,
   "id": "ad569f33",
   "metadata": {},
   "outputs": [],
   "source": []
  }
 ],
 "metadata": {
  "kernelspec": {
   "display_name": "Python 3 (ipykernel)",
   "language": "python",
   "name": "python3"
  },
  "language_info": {
   "codemirror_mode": {
    "name": "ipython",
    "version": 3
   },
   "file_extension": ".py",
   "mimetype": "text/x-python",
   "name": "python",
   "nbconvert_exporter": "python",
   "pygments_lexer": "ipython3",
   "version": "3.9.4"
  }
 },
 "nbformat": 4,
 "nbformat_minor": 5
}
