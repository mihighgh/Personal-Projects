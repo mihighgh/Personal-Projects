{
 "cells": [
  {
   "cell_type": "markdown",
   "id": "6e23152f",
   "metadata": {},
   "source": [
    "## Import the libraries"
   ]
  },
  {
   "cell_type": "code",
   "execution_count": 29,
   "id": "e997c5a5",
   "metadata": {},
   "outputs": [],
   "source": [
    "import tensorflow as tf\n",
    "import numpy as np\n",
    "\n",
    "from tensorflow.keras import datasets, layers, models\n",
    "import matplotlib.pyplot as plt"
   ]
  },
  {
   "cell_type": "markdown",
   "id": "cd10ea63",
   "metadata": {},
   "source": [
    "## Load and split dataset"
   ]
  },
  {
   "cell_type": "code",
   "execution_count": 5,
   "id": "45005e6c",
   "metadata": {},
   "outputs": [],
   "source": [
    "(train_images, train_labels), (test_images, test_labels) = datasets.cifar10.load_data()\n",
    "\n",
    "# Normalize pixel values to be between 0 and 1\n",
    "train_images, test_images = train_images / 255.0, test_images / 255.0\n",
    "\n",
    "class_names = ['airplane', 'automobile', 'bird', 'cat', 'deer',\n",
    "               'dog', 'frog', 'horse', 'ship', 'truck']"
   ]
  },
  {
   "cell_type": "markdown",
   "id": "f4ee511b",
   "metadata": {},
   "source": [
    "##### Let's have a look at an image from our dataset!"
   ]
  },
  {
   "cell_type": "code",
   "execution_count": 8,
   "id": "8785f8e3",
   "metadata": {},
   "outputs": [
    {
     "data": {
      "image/png": "[encoded data removed]",
      "text/plain": [
       "<Figure size 432x288 with 1 Axes>"
      ]
     },
     "metadata": {
      "needs_background": "light"
     },
     "output_type": "display_data"
    }
   ],
   "source": [
    "IMG_INDEX = 5\n",
    "\n",
    "plt.imshow(train_images[IMG_INDEX], cmap=plt.cm.binary)\n",
    "plt.xlabel(class_names[train_labels[IMG_INDEX][0]])\n",
    "plt.show()"
   ]
  },
  {
   "cell_type": "markdown",
   "id": "f5e404e8",
   "metadata": {},
   "source": [
    "## CNN Architecture"
   ]
  },
  {
   "cell_type": "code",
   "execution_count": 15,
   "id": "024b454c",
   "metadata": {},
   "outputs": [],
   "source": [
    "model = models.Sequential()\n",
    "model.add(layers.Conv2D(32, (3, 3), activation='relu', input_shape=(32, 32, 3)))\n",
    "model.add(layers.MaxPooling2D((2, 2)))\n",
    "model.add(layers.Conv2D(64, (3, 3), activation='relu'))\n",
    "model.add(layers.MaxPooling2D((2, 2)))\n",
    "model.add(layers.Conv2D(64, (3, 3), activation='relu'))"
   ]
  },
  {
   "cell_type": "markdown",
   "id": "f604efc1",
   "metadata": {},
   "source": [
    "##### Layer 1"
   ]
  },
  {
   "cell_type": "markdown",
   "id": "77322d87",
   "metadata": {},
   "source": [
    "#### The input shape of our data will be 32, 32, 3 and we will process 32 filters of size 3x3 over our input data. We also apply the activation function RELU"
   ]
  },
  {
   "cell_type": "markdown",
   "id": "29ebff6d",
   "metadata": {},
   "source": [
    "##### Layer 2"
   ]
  },
  {
   "cell_type": "markdown",
   "id": "5d8128dd",
   "metadata": {},
   "source": [
    "#### This one will perform max pooling operation using 2x2 samplels and a stride of 2"
   ]
  },
  {
   "cell_type": "markdown",
   "id": "45b10805",
   "metadata": {},
   "source": [
    "##### Other Layers"
   ]
  },
  {
   "cell_type": "markdown",
   "id": "f59eaba0",
   "metadata": {},
   "source": [
    "#### The other layers do very similar stuff but take as input the feature map from previous layer"
   ]
  },
  {
   "cell_type": "code",
   "execution_count": 16,
   "id": "30c15c96",
   "metadata": {},
   "outputs": [
    {
     "name": "stdout",
     "output_type": "stream",
     "text": [
      "Model: \"sequential_2\"\n",
      "_________________________________________________________________\n",
      "Layer (type)                 Output Shape              Param #   \n",
      "=================================================================\n",
      "conv2d_4 (Conv2D)            (None, 30, 30, 32)        896       \n",
      "_________________________________________________________________\n",
      "max_pooling2d_2 (MaxPooling2 (None, 15, 15, 32)        0         \n",
      "_________________________________________________________________\n",
      "conv2d_5 (Conv2D)            (None, 13, 13, 64)        18496     \n",
      "_________________________________________________________________\n",
      "max_pooling2d_3 (MaxPooling2 (None, 6, 6, 64)          0         \n",
      "_________________________________________________________________\n",
      "conv2d_6 (Conv2D)            (None, 4, 4, 64)          36928     \n",
      "=================================================================\n",
      "Total params: 56,320\n",
      "Trainable params: 56,320\n",
      "Non-trainable params: 0\n",
      "_________________________________________________________________\n"
     ]
    }
   ],
   "source": [
    "model.summary()"
   ]
  },
  {
   "cell_type": "markdown",
   "id": "c4e729c7",
   "metadata": {},
   "source": [
    "## Adding dense layers"
   ]
  },
  {
   "cell_type": "code",
   "execution_count": 17,
   "id": "cae26329",
   "metadata": {},
   "outputs": [],
   "source": [
    "model.add(layers.Flatten())\n",
    "model.add(layers.Dense(64, activation='relu'))\n",
    "model.add(layers.Dense(10))"
   ]
  },
  {
   "cell_type": "code",
   "execution_count": 18,
   "id": "e7d4b920",
   "metadata": {},
   "outputs": [
    {
     "name": "stdout",
     "output_type": "stream",
     "text": [
      "Model: \"sequential_2\"\n",
      "_________________________________________________________________\n",
      "Layer (type)                 Output Shape              Param #   \n",
      "=================================================================\n",
      "conv2d_4 (Conv2D)            (None, 30, 30, 32)        896       \n",
      "_________________________________________________________________\n",
      "max_pooling2d_2 (MaxPooling2 (None, 15, 15, 32)        0         \n",
      "_________________________________________________________________\n",
      "conv2d_5 (Conv2D)            (None, 13, 13, 64)        18496     \n",
      "_________________________________________________________________\n",
      "max_pooling2d_3 (MaxPooling2 (None, 6, 6, 64)          0         \n",
      "_________________________________________________________________\n",
      "conv2d_6 (Conv2D)            (None, 4, 4, 64)          36928     \n",
      "_________________________________________________________________\n",
      "flatten_1 (Flatten)          (None, 1024)              0         \n",
      "_________________________________________________________________\n",
      "dense_2 (Dense)              (None, 64)                65600     \n",
      "_________________________________________________________________\n",
      "dense_3 (Dense)              (None, 10)                650       \n",
      "=================================================================\n",
      "Total params: 122,570\n",
      "Trainable params: 122,570\n",
      "Non-trainable params: 0\n",
      "_________________________________________________________________\n"
     ]
    }
   ],
   "source": [
    "model.summary()"
   ]
  },
  {
   "cell_type": "markdown",
   "id": "06177d93",
   "metadata": {},
   "source": [
    "## Training the model"
   ]
  },
  {
   "cell_type": "code",
   "execution_count": 19,
   "id": "b76377ce",
   "metadata": {},
   "outputs": [
    {
     "name": "stdout",
     "output_type": "stream",
     "text": [
      "Epoch 1/10\n",
      "1563/1563 [==============================] - 65s 23ms/step - loss: 1.5214 - accuracy: 0.4462 - val_loss: 1.3203 - val_accuracy: 0.5259\n",
      "Epoch 2/10\n",
      "1563/1563 [==============================] - 32s 20ms/step - loss: 1.1662 - accuracy: 0.5904 - val_loss: 1.0818 - val_accuracy: 0.6146\n",
      "Epoch 3/10\n",
      "1563/1563 [==============================] - 32s 20ms/step - loss: 1.0207 - accuracy: 0.6428 - val_loss: 1.0482 - val_accuracy: 0.6337\n",
      "Epoch 4/10\n",
      "1563/1563 [==============================] - 26s 17ms/step - loss: 0.9272 - accuracy: 0.6740 - val_loss: 0.9291 - val_accuracy: 0.6783\n",
      "Epoch 5/10\n",
      "1563/1563 [==============================] - 25s 16ms/step - loss: 0.8556 - accuracy: 0.7020 - val_loss: 0.9094 - val_accuracy: 0.6803\n",
      "Epoch 6/10\n",
      "1563/1563 [==============================] - 25s 16ms/step - loss: 0.8049 - accuracy: 0.7182 - val_loss: 0.9058 - val_accuracy: 0.6839\n",
      "Epoch 7/10\n",
      "1563/1563 [==============================] - 26s 17ms/step - loss: 0.7554 - accuracy: 0.7359 - val_loss: 0.8739 - val_accuracy: 0.6949\n",
      "Epoch 8/10\n",
      "1563/1563 [==============================] - 27s 17ms/step - loss: 0.7170 - accuracy: 0.7491 - val_loss: 0.8404 - val_accuracy: 0.7111\n",
      "Epoch 9/10\n",
      "1563/1563 [==============================] - 27s 17ms/step - loss: 0.6755 - accuracy: 0.7645 - val_loss: 0.8596 - val_accuracy: 0.7107\n",
      "Epoch 10/10\n",
      "1563/1563 [==============================] - 27s 17ms/step - loss: 0.6339 - accuracy: 0.7762 - val_loss: 0.9343 - val_accuracy: 0.6905\n"
     ]
    }
   ],
   "source": [
    "model.compile(optimizer='adam',\n",
    "              loss=tf.keras.losses.SparseCategoricalCrossentropy(from_logits=True),\n",
    "              metrics=['accuracy'])\n",
    "\n",
    "history=model.fit(train_images, train_labels, epochs=10,\n",
    "                  validation_data=(test_images, test_labels))"
   ]
  },
  {
   "cell_type": "markdown",
   "id": "5e16b836",
   "metadata": {},
   "source": [
    "## Evaluating the Model"
   ]
  },
  {
   "cell_type": "code",
   "execution_count": 20,
   "id": "65b8c0bc",
   "metadata": {},
   "outputs": [
    {
     "name": "stdout",
     "output_type": "stream",
     "text": [
      "313/313 - 13s - loss: 0.9343 - accuracy: 0.6905\n",
      "0.690500020980835\n",
      "0.9342679977416992\n"
     ]
    }
   ],
   "source": [
    "test_loss, test_acc = model.evaluate(test_images, test_labels, verbose=2)\n",
    "print(test_acc, test_loss, sep='\\n')"
   ]
  },
  {
   "cell_type": "markdown",
   "id": "4d0544b5",
   "metadata": {},
   "source": [
    "#### We might say that we have a pretty good accuracy regarding the fact that our dataset is considered to be a small one. Some of the best CNN models cosists of milions of images to be created."
   ]
  },
  {
   "cell_type": "code",
   "execution_count": 21,
   "id": "cd527fd4",
   "metadata": {},
   "outputs": [],
   "source": [
    "predictions = model.predict(test_images)"
   ]
  },
  {
   "cell_type": "code",
   "execution_count": 26,
   "id": "a51c8cc4",
   "metadata": {},
   "outputs": [
    {
     "data": {
      "text/plain": [
       "array([[ -3.634146  ,  -6.8086815 ,  -2.2468765 , ...,  -4.0162115 ,\n",
       "          0.25971246,  -2.0586162 ],\n",
       "       [  3.556698  ,   3.902994  ,  -4.8999286 , ...,  -8.752052  ,\n",
       "          9.842286  ,   1.6755489 ],\n",
       "       [ -0.22110116,   0.6767302 ,  -0.6061747 , ...,  -3.6389384 ,\n",
       "          3.3242776 ,   2.7766368 ],\n",
       "       ...,\n",
       "       [ -5.5477037 , -11.515571  ,   2.5317798 , ...,   0.5891656 ,\n",
       "         -6.1382356 ,  -6.8405285 ],\n",
       "       [  0.7171809 ,   0.81561786,  -0.05422305, ...,  -2.1586525 ,\n",
       "         -4.889475  ,  -4.6793323 ],\n",
       "       [ -5.016321  ,  -3.5313075 ,  -2.258998  , ...,   9.494511  ,\n",
       "         -5.2091613 ,  -1.5840839 ]], dtype=float32)"
      ]
     },
     "execution_count": 26,
     "metadata": {},
     "output_type": "execute_result"
    }
   ],
   "source": [
    "predictions"
   ]
  },
  {
   "cell_type": "code",
   "execution_count": 30,
   "id": "0da2b7de",
   "metadata": {},
   "outputs": [],
   "source": [
    "predictions = np.asarray(predictions)"
   ]
  },
  {
   "cell_type": "code",
   "execution_count": 45,
   "id": "e0097c96",
   "metadata": {},
   "outputs": [
    {
     "data": {
      "text/plain": [
       "array([-2.2331107 , -9.776856  ,  3.531047  ,  1.9618999 ,  2.5232134 ,\n",
       "        0.93107796, -1.0983536 , -0.88071424, -5.9372005 , -4.917748  ],\n",
       "      dtype=float32)"
      ]
     },
     "execution_count": 45,
     "metadata": {},
     "output_type": "execute_result"
    }
   ],
   "source": [
    "predictions[2352]"
   ]
  },
  {
   "cell_type": "code",
   "execution_count": 42,
   "id": "d52cef33",
   "metadata": {},
   "outputs": [
    {
     "data": {
      "text/plain": [
       "2"
      ]
     },
     "execution_count": 42,
     "metadata": {},
     "output_type": "execute_result"
    }
   ],
   "source": [
    "np.argmax(predictions[2352])"
   ]
  },
  {
   "cell_type": "code",
   "execution_count": 43,
   "id": "bbb28874",
   "metadata": {},
   "outputs": [
    {
     "name": "stdout",
     "output_type": "stream",
     "text": [
      "bird\n"
     ]
    }
   ],
   "source": [
    "print(class_names[np.argmax(predictions[2352])])"
   ]
  },
  {
   "cell_type": "code",
   "execution_count": 44,
   "id": "b46c2c4f",
   "metadata": {},
   "outputs": [
    {
     "data": {
      "image/png": "[encoded data removed]",
      "text/plain": [
       "<Figure size 432x288 with 2 Axes>"
      ]
     },
     "metadata": {
      "needs_background": "light"
     },
     "output_type": "display_data"
    }
   ],
   "source": [
    "plt.figure()\n",
    "plt.imshow(test_images[2352])\n",
    "plt.colorbar()\n",
    "plt.grid(False)\n",
    "plt.show()"
   ]
  },
  {
   "cell_type": "markdown",
   "id": "e4dcde88",
   "metadata": {},
   "source": [
    "#### We can use Augmentation if we want to increase the size of our dataset. Augmentation simply means that our image will be multiplied from different perspectives so we can increase the size of our dataset."
   ]
  }
 ],
 "metadata": {
  "kernelspec": {
   "display_name": "Python 3 (ipykernel)",
   "language": "python",
   "name": "python3"
  },
  "language_info": {
   "codemirror_mode": {
    "name": "ipython",
    "version": 3
   },
   "file_extension": ".py",
   "mimetype": "text/x-python",
   "name": "python",
   "nbconvert_exporter": "python",
   "pygments_lexer": "ipython3",
   "version": "3.9.4"
  }
 },
 "nbformat": 4,
 "nbformat_minor": 5
}
