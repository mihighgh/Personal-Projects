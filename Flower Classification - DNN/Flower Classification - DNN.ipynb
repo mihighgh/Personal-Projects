{
 "cells": [
  {
   "cell_type": "markdown",
   "id": "6e983904",
   "metadata": {},
   "source": [
    "## Import the libraries"
   ]
  },
  {
   "cell_type": "code",
   "execution_count": 1,
   "id": "ef332711",
   "metadata": {},
   "outputs": [],
   "source": [
    "from __future__ import absolute_import, division, print_function, unicode_literals\n",
    "\n",
    "import tensorflow as tf\n",
    "\n",
    "import pandas as pd"
   ]
  },
  {
   "cell_type": "markdown",
   "id": "a8766ebd",
   "metadata": {},
   "source": [
    "## Reading the Data and Preprocessing it"
   ]
  },
  {
   "cell_type": "code",
   "execution_count": 2,
   "id": "745a671a",
   "metadata": {},
   "outputs": [],
   "source": [
    "CSV_COLUMN_NAMES = ['SepalLength', 'SepalWidth', 'PetalLength', 'PetalWidth', 'Species']\n",
    "SPECIES = ['Setosa', 'Versicolor', 'Virginica']"
   ]
  },
  {
   "cell_type": "code",
   "execution_count": 3,
   "id": "d76362aa",
   "metadata": {},
   "outputs": [],
   "source": [
    "train = pd.read_csv('iris_training.csv', names=CSV_COLUMN_NAMES, header=0)\n",
    "test = pd.read_csv('iris_test.csv', names=CSV_COLUMN_NAMES, header=0)"
   ]
  },
  {
   "cell_type": "code",
   "execution_count": 4,
   "id": "0e31449e",
   "metadata": {},
   "outputs": [
    {
     "data": {
      "text/html": [
       "<div>\n",
       "<style scoped>\n",
       "    .dataframe tbody tr th:only-of-type {\n",
       "        vertical-align: middle;\n",
       "    }\n",
       "\n",
       "    .dataframe tbody tr th {\n",
       "        vertical-align: top;\n",
       "    }\n",
       "\n",
       "    .dataframe thead th {\n",
       "        text-align: right;\n",
       "    }\n",
       "</style>\n",
       "<table border=\"1\" class=\"dataframe\">\n",
       "  <thead>\n",
       "    <tr style=\"text-align: right;\">\n",
       "      <th></th>\n",
       "      <th>SepalLength</th>\n",
       "      <th>SepalWidth</th>\n",
       "      <th>PetalLength</th>\n",
       "      <th>PetalWidth</th>\n",
       "      <th>Species</th>\n",
       "    </tr>\n",
       "  </thead>\n",
       "  <tbody>\n",
       "    <tr>\n",
       "      <th>0</th>\n",
       "      <td>6.4</td>\n",
       "      <td>2.8</td>\n",
       "      <td>5.6</td>\n",
       "      <td>2.2</td>\n",
       "      <td>2</td>\n",
       "    </tr>\n",
       "    <tr>\n",
       "      <th>1</th>\n",
       "      <td>5.0</td>\n",
       "      <td>2.3</td>\n",
       "      <td>3.3</td>\n",
       "      <td>1.0</td>\n",
       "      <td>1</td>\n",
       "    </tr>\n",
       "    <tr>\n",
       "      <th>2</th>\n",
       "      <td>4.9</td>\n",
       "      <td>2.5</td>\n",
       "      <td>4.5</td>\n",
       "      <td>1.7</td>\n",
       "      <td>2</td>\n",
       "    </tr>\n",
       "    <tr>\n",
       "      <th>3</th>\n",
       "      <td>4.9</td>\n",
       "      <td>3.1</td>\n",
       "      <td>1.5</td>\n",
       "      <td>0.1</td>\n",
       "      <td>0</td>\n",
       "    </tr>\n",
       "    <tr>\n",
       "      <th>4</th>\n",
       "      <td>5.7</td>\n",
       "      <td>3.8</td>\n",
       "      <td>1.7</td>\n",
       "      <td>0.3</td>\n",
       "      <td>0</td>\n",
       "    </tr>\n",
       "  </tbody>\n",
       "</table>\n",
       "</div>"
      ],
      "text/plain": [
       "   SepalLength  SepalWidth  PetalLength  PetalWidth  Species\n",
       "0          6.4         2.8          5.6         2.2        2\n",
       "1          5.0         2.3          3.3         1.0        1\n",
       "2          4.9         2.5          4.5         1.7        2\n",
       "3          4.9         3.1          1.5         0.1        0\n",
       "4          5.7         3.8          1.7         0.3        0"
      ]
     },
     "execution_count": 4,
     "metadata": {},
     "output_type": "execute_result"
    }
   ],
   "source": [
    "train.head(5)"
   ]
  },
  {
   "cell_type": "markdown",
   "id": "df3b0d38",
   "metadata": {},
   "source": [
    "#### Further, we will pop the species column because this is our label. The remaining columns will be classified as features."
   ]
  },
  {
   "cell_type": "code",
   "execution_count": 5,
   "id": "3d59c8b2",
   "metadata": {},
   "outputs": [
    {
     "data": {
      "text/html": [
       "<div>\n",
       "<style scoped>\n",
       "    .dataframe tbody tr th:only-of-type {\n",
       "        vertical-align: middle;\n",
       "    }\n",
       "\n",
       "    .dataframe tbody tr th {\n",
       "        vertical-align: top;\n",
       "    }\n",
       "\n",
       "    .dataframe thead th {\n",
       "        text-align: right;\n",
       "    }\n",
       "</style>\n",
       "<table border=\"1\" class=\"dataframe\">\n",
       "  <thead>\n",
       "    <tr style=\"text-align: right;\">\n",
       "      <th></th>\n",
       "      <th>SepalLength</th>\n",
       "      <th>SepalWidth</th>\n",
       "      <th>PetalLength</th>\n",
       "      <th>PetalWidth</th>\n",
       "    </tr>\n",
       "  </thead>\n",
       "  <tbody>\n",
       "    <tr>\n",
       "      <th>0</th>\n",
       "      <td>6.4</td>\n",
       "      <td>2.8</td>\n",
       "      <td>5.6</td>\n",
       "      <td>2.2</td>\n",
       "    </tr>\n",
       "    <tr>\n",
       "      <th>1</th>\n",
       "      <td>5.0</td>\n",
       "      <td>2.3</td>\n",
       "      <td>3.3</td>\n",
       "      <td>1.0</td>\n",
       "    </tr>\n",
       "    <tr>\n",
       "      <th>2</th>\n",
       "      <td>4.9</td>\n",
       "      <td>2.5</td>\n",
       "      <td>4.5</td>\n",
       "      <td>1.7</td>\n",
       "    </tr>\n",
       "    <tr>\n",
       "      <th>3</th>\n",
       "      <td>4.9</td>\n",
       "      <td>3.1</td>\n",
       "      <td>1.5</td>\n",
       "      <td>0.1</td>\n",
       "    </tr>\n",
       "    <tr>\n",
       "      <th>4</th>\n",
       "      <td>5.7</td>\n",
       "      <td>3.8</td>\n",
       "      <td>1.7</td>\n",
       "      <td>0.3</td>\n",
       "    </tr>\n",
       "  </tbody>\n",
       "</table>\n",
       "</div>"
      ],
      "text/plain": [
       "   SepalLength  SepalWidth  PetalLength  PetalWidth\n",
       "0          6.4         2.8          5.6         2.2\n",
       "1          5.0         2.3          3.3         1.0\n",
       "2          4.9         2.5          4.5         1.7\n",
       "3          4.9         3.1          1.5         0.1\n",
       "4          5.7         3.8          1.7         0.3"
      ]
     },
     "execution_count": 5,
     "metadata": {},
     "output_type": "execute_result"
    }
   ],
   "source": [
    "train_y = train.pop('Species')\n",
    "test_y = test.pop('Species')\n",
    "train.head(5)"
   ]
  },
  {
   "cell_type": "code",
   "execution_count": 6,
   "id": "5924731a",
   "metadata": {},
   "outputs": [
    {
     "data": {
      "text/plain": [
       "0    2\n",
       "1    1\n",
       "2    2\n",
       "3    0\n",
       "4    0\n",
       "Name: Species, dtype: int64"
      ]
     },
     "execution_count": 6,
     "metadata": {},
     "output_type": "execute_result"
    }
   ],
   "source": [
    "train_y.head(5)"
   ]
  },
  {
   "cell_type": "code",
   "execution_count": 7,
   "id": "f76f09ce",
   "metadata": {},
   "outputs": [
    {
     "data": {
      "text/plain": [
       "(120, 4)"
      ]
     },
     "execution_count": 7,
     "metadata": {},
     "output_type": "execute_result"
    }
   ],
   "source": [
    "train.shape"
   ]
  },
  {
   "cell_type": "code",
   "execution_count": 8,
   "id": "80b0efed",
   "metadata": {},
   "outputs": [
    {
     "name": "stdout",
     "output_type": "stream",
     "text": [
      "<class 'pandas.core.frame.DataFrame'>\n",
      "RangeIndex: 120 entries, 0 to 119\n",
      "Data columns (total 4 columns):\n",
      " #   Column       Non-Null Count  Dtype  \n",
      "---  ------       --------------  -----  \n",
      " 0   SepalLength  120 non-null    float64\n",
      " 1   SepalWidth   120 non-null    float64\n",
      " 2   PetalLength  120 non-null    float64\n",
      " 3   PetalWidth   120 non-null    float64\n",
      "dtypes: float64(4)\n",
      "memory usage: 3.9 KB\n"
     ]
    }
   ],
   "source": [
    "train.info()"
   ]
  },
  {
   "cell_type": "markdown",
   "id": "70a99d04",
   "metadata": {},
   "source": [
    "## Creating the input function"
   ]
  },
  {
   "cell_type": "code",
   "execution_count": 15,
   "id": "dffad3c9",
   "metadata": {},
   "outputs": [],
   "source": [
    "def input_fn(features, labels, training=True, batch_size=256):\n",
    "    # Convert inputs to a Dataset\n",
    "    dataset = tf.data.Dataset.from_tensor_slices((dict(features), labels))\n",
    "    \n",
    "    # Shuffle the data and repeat if it's still in training mode\n",
    "    if training:\n",
    "        dataset = dataset.shuffle(1000).repeat()\n",
    "        \n",
    "    return dataset.batch(batch_size)"
   ]
  },
  {
   "cell_type": "markdown",
   "id": "c4aca3ca",
   "metadata": {},
   "source": [
    "## Feature columns"
   ]
  },
  {
   "cell_type": "code",
   "execution_count": 16,
   "id": "d59d29ea",
   "metadata": {},
   "outputs": [],
   "source": [
    "my_feature_columns = []\n",
    "for key in train.keys():\n",
    "    my_feature_columns.append(tf.feature_column.numeric_column(key = key))"
   ]
  },
  {
   "cell_type": "markdown",
   "id": "39e078fd",
   "metadata": {},
   "source": [
    "## Building the model"
   ]
  },
  {
   "cell_type": "code",
   "execution_count": 17,
   "id": "4a6a2315",
   "metadata": {},
   "outputs": [
    {
     "name": "stdout",
     "output_type": "stream",
     "text": [
      "INFO:tensorflow:Using default config.\n",
      "WARNING:tensorflow:Using temporary folder as model directory: C:\\Users\\Mihigh\\AppData\\Local\\Temp\\tmpyjtjoja9\n",
      "INFO:tensorflow:Using config: {'_model_dir': 'C:\\\\Users\\\\Mihigh\\\\AppData\\\\Local\\\\Temp\\\\tmpyjtjoja9', '_tf_random_seed': None, '_save_summary_steps': 100, '_save_checkpoints_steps': None, '_save_checkpoints_secs': 600, '_session_config': allow_soft_placement: true\n",
      "graph_options {\n",
      "  rewrite_options {\n",
      "    meta_optimizer_iterations: ONE\n",
      "  }\n",
      "}\n",
      ", '_keep_checkpoint_max': 5, '_keep_checkpoint_every_n_hours': 10000, '_log_step_count_steps': 100, '_train_distribute': None, '_device_fn': None, '_protocol': None, '_eval_distribute': None, '_experimental_distribute': None, '_experimental_max_worker_delay_secs': None, '_session_creation_timeout_secs': 7200, '_checkpoint_save_graph_def': True, '_service': None, '_cluster_spec': ClusterSpec({}), '_task_type': 'worker', '_task_id': 0, '_global_id_in_cluster': 0, '_master': '', '_evaluation_master': '', '_is_chief': True, '_num_ps_replicas': 0, '_num_worker_replicas': 1}\n"
     ]
    }
   ],
   "source": [
    "# Build a DNN with 2 hidden layers with 30 and 10 hidden nodes each.\n",
    "classifier = tf.estimator.DNNClassifier(\n",
    "    feature_columns=my_feature_columns,\n",
    "    # Two hidden layers of 30 and 10 nodes respectively.\n",
    "    hidden_units=[30, 10],\n",
    "    # The model must choose between 3 classes.\n",
    "    n_classes=3)"
   ]
  },
  {
   "cell_type": "markdown",
   "id": "3eac94bc",
   "metadata": {},
   "source": [
    "## Training the model"
   ]
  },
  {
   "cell_type": "code",
   "execution_count": 18,
   "id": "51dc2de5",
   "metadata": {
    "scrolled": true
   },
   "outputs": [
    {
     "name": "stdout",
     "output_type": "stream",
     "text": [
      "INFO:tensorflow:Calling model_fn.\n",
      "INFO:tensorflow:Done calling model_fn.\n",
      "INFO:tensorflow:Create CheckpointSaverHook.\n",
      "INFO:tensorflow:Graph was finalized.\n",
      "INFO:tensorflow:Running local_init_op.\n",
      "INFO:tensorflow:Done running local_init_op.\n",
      "INFO:tensorflow:Calling checkpoint listeners before saving checkpoint 0...\n",
      "INFO:tensorflow:Saving checkpoints for 0 into C:\\Users\\Mihigh\\AppData\\Local\\Temp\\tmpyjtjoja9\\model.ckpt.\n",
      "INFO:tensorflow:Calling checkpoint listeners after saving checkpoint 0...\n",
      "INFO:tensorflow:loss = 1.55302, step = 0\n",
      "INFO:tensorflow:global_step/sec: 129.545\n",
      "INFO:tensorflow:loss = 1.212924, step = 100 (0.774 sec)\n",
      "INFO:tensorflow:global_step/sec: 149.069\n",
      "INFO:tensorflow:loss = 1.0894151, step = 200 (0.670 sec)\n",
      "INFO:tensorflow:global_step/sec: 151.139\n",
      "INFO:tensorflow:loss = 1.0148892, step = 300 (0.663 sec)\n",
      "INFO:tensorflow:global_step/sec: 149.484\n",
      "INFO:tensorflow:loss = 0.9607731, step = 400 (0.669 sec)\n",
      "INFO:tensorflow:global_step/sec: 151.577\n",
      "INFO:tensorflow:loss = 0.9163091, step = 500 (0.660 sec)\n",
      "INFO:tensorflow:global_step/sec: 151.641\n",
      "INFO:tensorflow:loss = 0.89188755, step = 600 (0.658 sec)\n",
      "INFO:tensorflow:global_step/sec: 151.222\n",
      "INFO:tensorflow:loss = 0.8611102, step = 700 (0.661 sec)\n",
      "INFO:tensorflow:global_step/sec: 145.362\n",
      "INFO:tensorflow:loss = 0.8263309, step = 800 (0.688 sec)\n",
      "INFO:tensorflow:global_step/sec: 152.876\n",
      "INFO:tensorflow:loss = 0.8017699, step = 900 (0.656 sec)\n",
      "INFO:tensorflow:global_step/sec: 154.87\n",
      "INFO:tensorflow:loss = 0.76769465, step = 1000 (0.644 sec)\n",
      "INFO:tensorflow:global_step/sec: 151.989\n",
      "INFO:tensorflow:loss = 0.73884547, step = 1100 (0.658 sec)\n",
      "INFO:tensorflow:global_step/sec: 153.581\n",
      "INFO:tensorflow:loss = 0.7283906, step = 1200 (0.652 sec)\n",
      "INFO:tensorflow:global_step/sec: 157.67\n",
      "INFO:tensorflow:loss = 0.7230592, step = 1300 (0.634 sec)\n",
      "INFO:tensorflow:global_step/sec: 158.632\n",
      "INFO:tensorflow:loss = 0.70316344, step = 1400 (0.630 sec)\n",
      "INFO:tensorflow:global_step/sec: 150.146\n",
      "INFO:tensorflow:loss = 0.6879506, step = 1500 (0.665 sec)\n",
      "INFO:tensorflow:global_step/sec: 158.882\n",
      "INFO:tensorflow:loss = 0.6696461, step = 1600 (0.630 sec)\n",
      "INFO:tensorflow:global_step/sec: 156.986\n",
      "INFO:tensorflow:loss = 0.66171175, step = 1700 (0.637 sec)\n",
      "INFO:tensorflow:global_step/sec: 157.713\n",
      "INFO:tensorflow:loss = 0.6499462, step = 1800 (0.634 sec)\n",
      "INFO:tensorflow:global_step/sec: 159.578\n",
      "INFO:tensorflow:loss = 0.65428793, step = 1900 (0.626 sec)\n",
      "INFO:tensorflow:global_step/sec: 156.256\n",
      "INFO:tensorflow:loss = 0.6158948, step = 2000 (0.641 sec)\n",
      "INFO:tensorflow:global_step/sec: 158.233\n",
      "INFO:tensorflow:loss = 0.62076235, step = 2100 (0.631 sec)\n",
      "INFO:tensorflow:global_step/sec: 149.075\n",
      "INFO:tensorflow:loss = 0.6152426, step = 2200 (0.672 sec)\n",
      "INFO:tensorflow:global_step/sec: 154.386\n",
      "INFO:tensorflow:loss = 0.60941964, step = 2300 (0.647 sec)\n",
      "INFO:tensorflow:global_step/sec: 156.123\n",
      "INFO:tensorflow:loss = 0.60063875, step = 2400 (0.640 sec)\n",
      "INFO:tensorflow:global_step/sec: 157.176\n",
      "INFO:tensorflow:loss = 0.60191673, step = 2500 (0.637 sec)\n",
      "INFO:tensorflow:global_step/sec: 147.092\n",
      "INFO:tensorflow:loss = 0.58423126, step = 2600 (0.680 sec)\n",
      "INFO:tensorflow:global_step/sec: 157.982\n",
      "INFO:tensorflow:loss = 0.57868063, step = 2700 (0.632 sec)\n",
      "INFO:tensorflow:global_step/sec: 157.97\n",
      "INFO:tensorflow:loss = 0.57117504, step = 2800 (0.633 sec)\n",
      "INFO:tensorflow:global_step/sec: 160.931\n",
      "INFO:tensorflow:loss = 0.55325264, step = 2900 (0.621 sec)\n",
      "INFO:tensorflow:global_step/sec: 157.233\n",
      "INFO:tensorflow:loss = 0.5567247, step = 3000 (0.636 sec)\n",
      "INFO:tensorflow:global_step/sec: 158.874\n",
      "INFO:tensorflow:loss = 0.5482466, step = 3100 (0.632 sec)\n",
      "INFO:tensorflow:global_step/sec: 157.498\n",
      "INFO:tensorflow:loss = 0.55489564, step = 3200 (0.633 sec)\n",
      "INFO:tensorflow:global_step/sec: 156.614\n",
      "INFO:tensorflow:loss = 0.53689915, step = 3300 (0.638 sec)\n",
      "INFO:tensorflow:global_step/sec: 145.107\n",
      "INFO:tensorflow:loss = 0.5342802, step = 3400 (0.691 sec)\n",
      "INFO:tensorflow:global_step/sec: 154.871\n",
      "INFO:tensorflow:loss = 0.5293871, step = 3500 (0.644 sec)\n",
      "INFO:tensorflow:global_step/sec: 153.742\n",
      "INFO:tensorflow:loss = 0.51532, step = 3600 (0.651 sec)\n",
      "INFO:tensorflow:global_step/sec: 154.785\n",
      "INFO:tensorflow:loss = 0.50352955, step = 3700 (0.646 sec)\n",
      "INFO:tensorflow:global_step/sec: 154.504\n",
      "INFO:tensorflow:loss = 0.49694365, step = 3800 (0.648 sec)\n",
      "INFO:tensorflow:global_step/sec: 138.099\n",
      "INFO:tensorflow:loss = 0.49782538, step = 3900 (0.723 sec)\n",
      "INFO:tensorflow:global_step/sec: 153.847\n",
      "INFO:tensorflow:loss = 0.48954085, step = 4000 (0.649 sec)\n",
      "INFO:tensorflow:global_step/sec: 154.094\n",
      "INFO:tensorflow:loss = 0.49724007, step = 4100 (0.649 sec)\n",
      "INFO:tensorflow:global_step/sec: 156.906\n",
      "INFO:tensorflow:loss = 0.4904634, step = 4200 (0.637 sec)\n",
      "INFO:tensorflow:global_step/sec: 157.616\n",
      "INFO:tensorflow:loss = 0.49123758, step = 4300 (0.635 sec)\n",
      "INFO:tensorflow:global_step/sec: 156.879\n",
      "INFO:tensorflow:loss = 0.47701937, step = 4400 (0.640 sec)\n",
      "INFO:tensorflow:global_step/sec: 159.008\n",
      "INFO:tensorflow:loss = 0.48050797, step = 4500 (0.626 sec)\n",
      "INFO:tensorflow:global_step/sec: 151.818\n",
      "INFO:tensorflow:loss = 0.46405402, step = 4600 (0.660 sec)\n",
      "INFO:tensorflow:global_step/sec: 154.759\n",
      "INFO:tensorflow:loss = 0.46962088, step = 4700 (0.648 sec)\n",
      "INFO:tensorflow:global_step/sec: 153.181\n",
      "INFO:tensorflow:loss = 0.46992436, step = 4800 (0.651 sec)\n",
      "INFO:tensorflow:global_step/sec: 148.64\n",
      "INFO:tensorflow:loss = 0.46250635, step = 4900 (0.672 sec)\n",
      "INFO:tensorflow:Calling checkpoint listeners before saving checkpoint 5000...\n",
      "INFO:tensorflow:Saving checkpoints for 5000 into C:\\Users\\Mihigh\\AppData\\Local\\Temp\\tmpyjtjoja9\\model.ckpt.\n",
      "INFO:tensorflow:Calling checkpoint listeners after saving checkpoint 5000...\n",
      "INFO:tensorflow:Loss for final step: 0.458369.\n"
     ]
    },
    {
     "data": {
      "text/plain": [
       "<tensorflow_estimator.python.estimator.canned.dnn.DNNClassifierV2 at 0x2c611ddfaf0>"
      ]
     },
     "execution_count": 18,
     "metadata": {},
     "output_type": "execute_result"
    }
   ],
   "source": [
    "classifier.train(\n",
    "    input_fn=lambda: input_fn(train, train_y, training=True),\n",
    "    steps=5000)\n",
    "# We include a lambda to avoid creating an inner function previously"
   ]
  },
  {
   "cell_type": "markdown",
   "id": "8081c6be",
   "metadata": {},
   "source": [
    "## Evaluating the model"
   ]
  },
  {
   "cell_type": "code",
   "execution_count": 22,
   "id": "e26683b7",
   "metadata": {},
   "outputs": [
    {
     "name": "stdout",
     "output_type": "stream",
     "text": [
      "INFO:tensorflow:Calling model_fn.\n",
      "INFO:tensorflow:Done calling model_fn.\n",
      "INFO:tensorflow:Starting evaluation at 2021-09-09T15:50:18\n",
      "INFO:tensorflow:Graph was finalized.\n",
      "INFO:tensorflow:Restoring parameters from C:\\Users\\Mihigh\\AppData\\Local\\Temp\\tmpyjtjoja9\\model.ckpt-5000\n",
      "INFO:tensorflow:Running local_init_op.\n",
      "INFO:tensorflow:Done running local_init_op.\n",
      "INFO:tensorflow:Inference Time : 0.41967s\n",
      "INFO:tensorflow:Finished evaluation at 2021-09-09-15:50:18\n",
      "INFO:tensorflow:Saving dict for global step 5000: accuracy = 0.76666665, average_loss = 0.5401877, global_step = 5000, loss = 0.5401877\n",
      "INFO:tensorflow:Saving 'checkpoint_path' summary for global step 5000: C:\\Users\\Mihigh\\AppData\\Local\\Temp\\tmpyjtjoja9\\model.ckpt-5000\n",
      "\n",
      "Test set accuracy: 0.767\n",
      "\n"
     ]
    }
   ],
   "source": [
    "eval_result = classifier.evaluate(\n",
    "    input_fn=lambda: input_fn(test, test_y, training=False))\n",
    "\n",
    "print('\\nTest set accuracy: {accuracy:0.3f}\\n'.format(**eval_result))"
   ]
  },
  {
   "cell_type": "markdown",
   "id": "18b44fde",
   "metadata": {},
   "source": [
    "## Predictions"
   ]
  },
  {
   "cell_type": "code",
   "execution_count": 23,
   "id": "7c8a6b84",
   "metadata": {},
   "outputs": [
    {
     "name": "stdout",
     "output_type": "stream",
     "text": [
      "Please type numeric values as prompted.\n",
      "SepalLength: 2.4\n",
      "SepalWidth: 2.6\n",
      "PetalLength: 6.5\n",
      "PetalWidth: 6.3\n",
      "INFO:tensorflow:Calling model_fn.\n",
      "INFO:tensorflow:Done calling model_fn.\n",
      "INFO:tensorflow:Graph was finalized.\n",
      "INFO:tensorflow:Restoring parameters from C:\\Users\\Mihigh\\AppData\\Local\\Temp\\tmpyjtjoja9\\model.ckpt-5000\n",
      "INFO:tensorflow:Running local_init_op.\n",
      "INFO:tensorflow:Done running local_init_op.\n",
      "Prediction is \"Virginica\" (89.9%)\n"
     ]
    }
   ],
   "source": [
    "def input_fn(features, batch_size=256):\n",
    "    # Convert the inputs to a Dataset without labels.\n",
    "    return tf.data.Dataset.from_tensor_slices(dict(features)).batch(batch_size)\n",
    "\n",
    "features = ['SepalLength', 'SepalWidth', 'PetalLength', 'PetalWidth']\n",
    "predict = {}\n",
    "\n",
    "print(\"Please type numeric values as prompted.\")\n",
    "for feature in features:\n",
    "    valid = True\n",
    "    while valid: \n",
    "        val = input(feature + \": \")\n",
    "        if not val.isdigit(): valid = False\n",
    "\n",
    "    predict[feature] = [float(val)]\n",
    "\n",
    "predictions = classifier.predict(input_fn=lambda: input_fn(predict))\n",
    "for pred_dict in predictions:\n",
    "    class_id = pred_dict['class_ids'][0]\n",
    "    probability = pred_dict['probabilities'][class_id]\n",
    "\n",
    "    print('Prediction is \"{}\" ({:.1f}%)'.format(\n",
    "        SPECIES[class_id], 100 * probability))\n"
   ]
  }
 ],
 "metadata": {
  "kernelspec": {
   "display_name": "Python 3 (ipykernel)",
   "language": "python",
   "name": "python3"
  },
  "language_info": {
   "codemirror_mode": {
    "name": "ipython",
    "version": 3
   },
   "file_extension": ".py",
   "mimetype": "text/x-python",
   "name": "python",
   "nbconvert_exporter": "python",
   "pygments_lexer": "ipython3",
   "version": "3.9.4"
  }
 },
 "nbformat": 4,
 "nbformat_minor": 5
}
