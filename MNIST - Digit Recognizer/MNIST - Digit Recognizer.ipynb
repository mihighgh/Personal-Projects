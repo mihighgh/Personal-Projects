{
 "cells": [
  {
   "cell_type": "markdown",
   "id": "4df9577e",
   "metadata": {},
   "source": [
    "# MNIST - Digit Recognizer"
   ]
  },
  {
   "cell_type": "code",
   "execution_count": 1,
   "id": "6e0bddbc",
   "metadata": {},
   "outputs": [],
   "source": [
    "# 1. Each image from the MNIST Dataset has 28x28px (784 pixels) or a problem with inputs from 0 to 255\n",
    "# 2. 0 corresponds to purely black and 255 to purely white\n",
    "# 3. We will use a SoftMax activation function for the output layer (Softmax classifiers give us the \n",
    "# probabilities for each class label)"
   ]
  },
  {
   "cell_type": "markdown",
   "id": "3d3e6b65",
   "metadata": {},
   "source": [
    "## The action plan"
   ]
  },
  {
   "cell_type": "markdown",
   "id": "61253a4e",
   "metadata": {},
   "source": [
    "#### 1. Prepare our data and preprocess it. We will create training, validation and test datasets."
   ]
  },
  {
   "cell_type": "markdown",
   "id": "6f033e49",
   "metadata": {},
   "source": [
    "#### 2. Outline the model and choose the activation functions"
   ]
  },
  {
   "cell_type": "markdown",
   "id": "c8aeb9e9",
   "metadata": {},
   "source": [
    "#### 3. Set the appropiate advanced optimizers and the loss function"
   ]
  },
  {
   "cell_type": "markdown",
   "id": "60d060cf",
   "metadata": {},
   "source": [
    "#### 4. Make it learn"
   ]
  },
  {
   "cell_type": "markdown",
   "id": "dcbba8f0",
   "metadata": {},
   "source": [
    "## Import the packages"
   ]
  },
  {
   "cell_type": "code",
   "execution_count": 2,
   "id": "ed63f490",
   "metadata": {},
   "outputs": [],
   "source": [
    "import numpy as np\n",
    "import tensorflow as tf\n",
    "import matplotlib.pyplot as plt\n",
    "import cv2\n",
    "\n",
    "# Collection of datasets ready-to-use \n",
    "import tensorflow_datasets as tfds"
   ]
  },
  {
   "cell_type": "markdown",
   "id": "3c6f0988",
   "metadata": {},
   "source": [
    "## Data"
   ]
  },
  {
   "cell_type": "code",
   "execution_count": 3,
   "id": "33a77b97",
   "metadata": {},
   "outputs": [],
   "source": [
    "# with_info parameter will provide us the version, number of samples etc."
   ]
  },
  {
   "cell_type": "code",
   "execution_count": 4,
   "id": "38f0f598",
   "metadata": {
    "scrolled": true
   },
   "outputs": [],
   "source": [
    "mnist_dataset, mnist_info = tfds.load(name='mnist', with_info=True, as_supervised=True)\n",
    "\n",
    "# Splitting the dataset into train and test\n",
    "mnist_train, mnist_test = mnist_dataset['train'], mnist_dataset['test']\n",
    "\n",
    "# Extracting 10% from the training data to form the validaton dataset\n",
    "num_validation_samples = 0.1 * mnist_info.splits['train'].num_examples\n",
    "# The tf.cast() function is used to cast a specified Tensor to a  new data type.\n",
    "num_validation_samples = tf.cast(num_validation_samples, tf.int64)\n",
    "\n",
    "num_test_samples = mnist_info.splits['test'].num_examples\n",
    "num_test_samples = tf.cast(num_test_samples, tf.int64)\n",
    "\n",
    "# We are scaling our inputs\n",
    "def scale(image, label):\n",
    "    image = tf.cast(image, tf.float32)\n",
    "    image /= 255.   # Dot means float number\n",
    "    return image, label\n",
    "\n",
    "\n",
    "scaled_train_and_validation_data = mnist_train.map(scale)\n",
    "\n",
    "test_data = mnist_test.map(scale)\n",
    "\n",
    "# Used to shuffle the data\n",
    "BUFFER_SIZE = 10000\n",
    "\n",
    "shuffled_train_and_validation_data = scaled_train_and_validation_data.shuffle(BUFFER_SIZE)\n",
    "\n",
    "validation_data = shuffled_train_and_validation_data.take(num_validation_samples)\n",
    "train_data = shuffled_train_and_validation_data.skip(num_validation_samples)\n",
    "\n",
    "\n",
    "BATCH_SIZE = 100\n",
    "\n",
    "train_data = train_data.batch(BATCH_SIZE)\n",
    "validation_data = validation_data.batch(num_validation_samples)\n",
    "test_data = test_data.batch(num_test_samples)\n",
    "# We are Forward Propagating here\n",
    "\n",
    "validation_inputs, validation_targets = next(iter(validation_data))\n",
    "# iter created an object which can be iterated one element at a time (like for loop)"
   ]
  },
  {
   "cell_type": "code",
   "execution_count": 5,
   "id": "fcbfc8c5",
   "metadata": {},
   "outputs": [
    {
     "data": {
      "text/plain": [
       "[(<tf.Tensor: shape=(10000, 28, 28, 1), dtype=float32, numpy=\n",
       "  array([[[[0.],\n",
       "           [0.],\n",
       "           [0.],\n",
       "           ...,\n",
       "           [0.],\n",
       "           [0.],\n",
       "           [0.]],\n",
       "  \n",
       "          [[0.],\n",
       "           [0.],\n",
       "           [0.],\n",
       "           ...,\n",
       "           [0.],\n",
       "           [0.],\n",
       "           [0.]],\n",
       "  \n",
       "          [[0.],\n",
       "           [0.],\n",
       "           [0.],\n",
       "           ...,\n",
       "           [0.],\n",
       "           [0.],\n",
       "           [0.]],\n",
       "  \n",
       "          ...,\n",
       "  \n",
       "          [[0.],\n",
       "           [0.],\n",
       "           [0.],\n",
       "           ...,\n",
       "           [0.],\n",
       "           [0.],\n",
       "           [0.]],\n",
       "  \n",
       "          [[0.],\n",
       "           [0.],\n",
       "           [0.],\n",
       "           ...,\n",
       "           [0.],\n",
       "           [0.],\n",
       "           [0.]],\n",
       "  \n",
       "          [[0.],\n",
       "           [0.],\n",
       "           [0.],\n",
       "           ...,\n",
       "           [0.],\n",
       "           [0.],\n",
       "           [0.]]],\n",
       "  \n",
       "  \n",
       "         [[[0.],\n",
       "           [0.],\n",
       "           [0.],\n",
       "           ...,\n",
       "           [0.],\n",
       "           [0.],\n",
       "           [0.]],\n",
       "  \n",
       "          [[0.],\n",
       "           [0.],\n",
       "           [0.],\n",
       "           ...,\n",
       "           [0.],\n",
       "           [0.],\n",
       "           [0.]],\n",
       "  \n",
       "          [[0.],\n",
       "           [0.],\n",
       "           [0.],\n",
       "           ...,\n",
       "           [0.],\n",
       "           [0.],\n",
       "           [0.]],\n",
       "  \n",
       "          ...,\n",
       "  \n",
       "          [[0.],\n",
       "           [0.],\n",
       "           [0.],\n",
       "           ...,\n",
       "           [0.],\n",
       "           [0.],\n",
       "           [0.]],\n",
       "  \n",
       "          [[0.],\n",
       "           [0.],\n",
       "           [0.],\n",
       "           ...,\n",
       "           [0.],\n",
       "           [0.],\n",
       "           [0.]],\n",
       "  \n",
       "          [[0.],\n",
       "           [0.],\n",
       "           [0.],\n",
       "           ...,\n",
       "           [0.],\n",
       "           [0.],\n",
       "           [0.]]],\n",
       "  \n",
       "  \n",
       "         [[[0.],\n",
       "           [0.],\n",
       "           [0.],\n",
       "           ...,\n",
       "           [0.],\n",
       "           [0.],\n",
       "           [0.]],\n",
       "  \n",
       "          [[0.],\n",
       "           [0.],\n",
       "           [0.],\n",
       "           ...,\n",
       "           [0.],\n",
       "           [0.],\n",
       "           [0.]],\n",
       "  \n",
       "          [[0.],\n",
       "           [0.],\n",
       "           [0.],\n",
       "           ...,\n",
       "           [0.],\n",
       "           [0.],\n",
       "           [0.]],\n",
       "  \n",
       "          ...,\n",
       "  \n",
       "          [[0.],\n",
       "           [0.],\n",
       "           [0.],\n",
       "           ...,\n",
       "           [0.],\n",
       "           [0.],\n",
       "           [0.]],\n",
       "  \n",
       "          [[0.],\n",
       "           [0.],\n",
       "           [0.],\n",
       "           ...,\n",
       "           [0.],\n",
       "           [0.],\n",
       "           [0.]],\n",
       "  \n",
       "          [[0.],\n",
       "           [0.],\n",
       "           [0.],\n",
       "           ...,\n",
       "           [0.],\n",
       "           [0.],\n",
       "           [0.]]],\n",
       "  \n",
       "  \n",
       "         ...,\n",
       "  \n",
       "  \n",
       "         [[[0.],\n",
       "           [0.],\n",
       "           [0.],\n",
       "           ...,\n",
       "           [0.],\n",
       "           [0.],\n",
       "           [0.]],\n",
       "  \n",
       "          [[0.],\n",
       "           [0.],\n",
       "           [0.],\n",
       "           ...,\n",
       "           [0.],\n",
       "           [0.],\n",
       "           [0.]],\n",
       "  \n",
       "          [[0.],\n",
       "           [0.],\n",
       "           [0.],\n",
       "           ...,\n",
       "           [0.],\n",
       "           [0.],\n",
       "           [0.]],\n",
       "  \n",
       "          ...,\n",
       "  \n",
       "          [[0.],\n",
       "           [0.],\n",
       "           [0.],\n",
       "           ...,\n",
       "           [0.],\n",
       "           [0.],\n",
       "           [0.]],\n",
       "  \n",
       "          [[0.],\n",
       "           [0.],\n",
       "           [0.],\n",
       "           ...,\n",
       "           [0.],\n",
       "           [0.],\n",
       "           [0.]],\n",
       "  \n",
       "          [[0.],\n",
       "           [0.],\n",
       "           [0.],\n",
       "           ...,\n",
       "           [0.],\n",
       "           [0.],\n",
       "           [0.]]],\n",
       "  \n",
       "  \n",
       "         [[[0.],\n",
       "           [0.],\n",
       "           [0.],\n",
       "           ...,\n",
       "           [0.],\n",
       "           [0.],\n",
       "           [0.]],\n",
       "  \n",
       "          [[0.],\n",
       "           [0.],\n",
       "           [0.],\n",
       "           ...,\n",
       "           [0.],\n",
       "           [0.],\n",
       "           [0.]],\n",
       "  \n",
       "          [[0.],\n",
       "           [0.],\n",
       "           [0.],\n",
       "           ...,\n",
       "           [0.],\n",
       "           [0.],\n",
       "           [0.]],\n",
       "  \n",
       "          ...,\n",
       "  \n",
       "          [[0.],\n",
       "           [0.],\n",
       "           [0.],\n",
       "           ...,\n",
       "           [0.],\n",
       "           [0.],\n",
       "           [0.]],\n",
       "  \n",
       "          [[0.],\n",
       "           [0.],\n",
       "           [0.],\n",
       "           ...,\n",
       "           [0.],\n",
       "           [0.],\n",
       "           [0.]],\n",
       "  \n",
       "          [[0.],\n",
       "           [0.],\n",
       "           [0.],\n",
       "           ...,\n",
       "           [0.],\n",
       "           [0.],\n",
       "           [0.]]],\n",
       "  \n",
       "  \n",
       "         [[[0.],\n",
       "           [0.],\n",
       "           [0.],\n",
       "           ...,\n",
       "           [0.],\n",
       "           [0.],\n",
       "           [0.]],\n",
       "  \n",
       "          [[0.],\n",
       "           [0.],\n",
       "           [0.],\n",
       "           ...,\n",
       "           [0.],\n",
       "           [0.],\n",
       "           [0.]],\n",
       "  \n",
       "          [[0.],\n",
       "           [0.],\n",
       "           [0.],\n",
       "           ...,\n",
       "           [0.],\n",
       "           [0.],\n",
       "           [0.]],\n",
       "  \n",
       "          ...,\n",
       "  \n",
       "          [[0.],\n",
       "           [0.],\n",
       "           [0.],\n",
       "           ...,\n",
       "           [0.],\n",
       "           [0.],\n",
       "           [0.]],\n",
       "  \n",
       "          [[0.],\n",
       "           [0.],\n",
       "           [0.],\n",
       "           ...,\n",
       "           [0.],\n",
       "           [0.],\n",
       "           [0.]],\n",
       "  \n",
       "          [[0.],\n",
       "           [0.],\n",
       "           [0.],\n",
       "           ...,\n",
       "           [0.],\n",
       "           [0.],\n",
       "           [0.]]]], dtype=float32)>,\n",
       "  <tf.Tensor: shape=(10000,), dtype=int64, numpy=array([2, 0, 4, ..., 8, 0, 5], dtype=int64)>)]"
      ]
     },
     "execution_count": 5,
     "metadata": {},
     "output_type": "execute_result"
    }
   ],
   "source": [
    "list_test_data = list(test_data)\n",
    "list_test_data"
   ]
  },
  {
   "cell_type": "code",
   "execution_count": 6,
   "id": "b08822e9",
   "metadata": {},
   "outputs": [],
   "source": [
    "# The batch size is a number of samples processed before the model is updated.\n",
    "# 1. batch size = 1 = Stochastic gradient descent(SGD)\n",
    "# 2. batch size = samples = (single batch) GD\n",
    "# 3. Mini-Batch Gradient Descent. 1 < Batch Size < Size of Training Set. \n",
    "\n",
    "# The number of epochs is the number of complete passes through the training dataset"
   ]
  },
  {
   "cell_type": "markdown",
   "id": "82e19933",
   "metadata": {},
   "source": [
    "## Model"
   ]
  },
  {
   "cell_type": "markdown",
   "id": "58a77f41",
   "metadata": {},
   "source": [
    "## Outline the Model"
   ]
  },
  {
   "cell_type": "code",
   "execution_count": 7,
   "id": "0a1c48e8",
   "metadata": {},
   "outputs": [],
   "source": [
    "# 784 inputs layers\n",
    "# 10 outputs nodes for each digit\n",
    "# we will work with 2 hidden layers with 50 nodes each"
   ]
  },
  {
   "cell_type": "code",
   "execution_count": 8,
   "id": "cbda8dbf",
   "metadata": {},
   "outputs": [],
   "source": [
    "input_size = 784\n",
    "output_size = 10\n",
    "hidden_layer_size = 100\n",
    "\n",
    "# Flatten --> Trannsforms the tensor, the image into a vector\n",
    "# Stack the layers\n",
    "model = tf.keras.Sequential([\n",
    "    tf.keras.layers.Flatten(input_shape=(28, 28, 1)),\n",
    "    # Further, we will build the neural network\n",
    "    # Takes the inputs, calculates the dot product, weights and adds the bias\n",
    "    tf.keras.layers.Dense(hidden_layer_size, activation='relu'),\n",
    "    tf.keras.layers.Dense(hidden_layer_size, activation='relu'),\n",
    "    tf.keras.layers.Dense(output_size, activation='softmax'), # The output will be based on probabilities\n",
    "])"
   ]
  },
  {
   "cell_type": "markdown",
   "id": "ca46e0d4",
   "metadata": {},
   "source": [
    "## Choose the optimizer and the loss function"
   ]
  },
  {
   "cell_type": "code",
   "execution_count": 9,
   "id": "32aaf754",
   "metadata": {},
   "outputs": [],
   "source": [
    "# Adam is a replacement optimization algorithm for stochastic gradient descent for training deep learning models.\n",
    "# Categorical crossentropy with integer targets = sparse_categorical_crossentropy.\n",
    "model.compile(optimizer='adam', loss='sparse_categorical_crossentropy', metrics=['accuracy'])"
   ]
  },
  {
   "cell_type": "markdown",
   "id": "75fdfd16",
   "metadata": {},
   "source": [
    "## Training"
   ]
  },
  {
   "cell_type": "code",
   "execution_count": 10,
   "id": "e82e5514",
   "metadata": {},
   "outputs": [
    {
     "name": "stdout",
     "output_type": "stream",
     "text": [
      "Epoch 1/5\n",
      "540/540 - 6s - loss: 0.3360 - accuracy: 0.9042 - val_loss: 0.1663 - val_accuracy: 0.9520\n",
      "Epoch 2/5\n",
      "540/540 - 3s - loss: 0.1386 - accuracy: 0.9589 - val_loss: 0.1085 - val_accuracy: 0.9687\n",
      "Epoch 3/5\n",
      "540/540 - 4s - loss: 0.0974 - accuracy: 0.9710 - val_loss: 0.0815 - val_accuracy: 0.9762\n",
      "Epoch 4/5\n",
      "540/540 - 4s - loss: 0.0740 - accuracy: 0.9776 - val_loss: 0.0740 - val_accuracy: 0.9780\n",
      "Epoch 5/5\n",
      "540/540 - 3s - loss: 0.0604 - accuracy: 0.9811 - val_loss: 0.0545 - val_accuracy: 0.9838\n"
     ]
    },
    {
     "data": {
      "text/plain": [
       "<keras.callbacks.History at 0x247294d6940>"
      ]
     },
     "execution_count": 10,
     "metadata": {},
     "output_type": "execute_result"
    }
   ],
   "source": [
    "NUM_EPOCHS = 5\n",
    "\n",
    "# At the beggining of each epoch(iteration), the training loss will be set to zero\n",
    "# The algorithm will iterate over a preset number of batches, all from train_data\n",
    "# The weights and biases will be updated as many times as there are batches\n",
    "# We will get a value for the loss function, indicating how the training is going\n",
    "# We will also see a training accuracy\n",
    "# At the end of the epoch, the algorithm will forward propagate the whole validation set\n",
    "# Max num of epochs = training over\n",
    "\n",
    "model.fit(train_data, epochs = NUM_EPOCHS, validation_data = (validation_inputs, validation_targets), verbose=2)"
   ]
  },
  {
   "cell_type": "markdown",
   "id": "705da6a8",
   "metadata": {},
   "source": [
    "## Test the model"
   ]
  },
  {
   "cell_type": "code",
   "execution_count": 11,
   "id": "22a32404",
   "metadata": {},
   "outputs": [
    {
     "name": "stdout",
     "output_type": "stream",
     "text": [
      "1/1 [==============================] - 0s 311ms/step - loss: 0.0815 - accuracy: 0.9738\n"
     ]
    }
   ],
   "source": [
    "test_loss, test_accuracy = model.evaluate(test_data)"
   ]
  },
  {
   "cell_type": "code",
   "execution_count": 12,
   "id": "a4b465f8",
   "metadata": {},
   "outputs": [
    {
     "name": "stdout",
     "output_type": "stream",
     "text": [
      "Test loss: 0.0815. Test accuracy: 97.38%\n"
     ]
    }
   ],
   "source": [
    "print(f'Test loss: {round(test_loss, 4)}. Test accuracy: {round(test_accuracy, 4)*100}%')"
   ]
  },
  {
   "cell_type": "markdown",
   "id": "d9c18a06",
   "metadata": {},
   "source": [
    "## Testing with our own digits"
   ]
  },
  {
   "cell_type": "code",
   "execution_count": 21,
   "id": "bba01a65",
   "metadata": {},
   "outputs": [],
   "source": [
    "own_data = cv2.imread('numbers/six.PNG', cv2.IMREAD_GRAYSCALE)"
   ]
  },
  {
   "cell_type": "code",
   "execution_count": 22,
   "id": "a5279979",
   "metadata": {},
   "outputs": [],
   "source": [
    "own_data = cv2.resize(own_data, (28, 28))\n",
    "own_data = own_data.astype('float32')\n",
    "own_data = own_data.reshape(1, 28, 28, 1)\n",
    "own_data = 255-own_data\n",
    "own_data /= 255"
   ]
  },
  {
   "cell_type": "code",
   "execution_count": 23,
   "id": "17f4b1eb",
   "metadata": {},
   "outputs": [
    {
     "data": {
      "image/png": "[encoded data removed]",
      "text/plain": [
       "<Figure size 432x288 with 1 Axes>"
      ]
     },
     "metadata": {
      "needs_background": "light"
     },
     "output_type": "display_data"
    }
   ],
   "source": [
    "plt.imshow(own_data.reshape(28, 28),cmap='Greys')\n",
    "plt.show()"
   ]
  },
  {
   "cell_type": "code",
   "execution_count": 24,
   "id": "10ca6b42",
   "metadata": {},
   "outputs": [],
   "source": [
    "# img_prediction = model.predict(own_data)\n",
    "# img_prediction"
   ]
  },
  {
   "cell_type": "code",
   "execution_count": 25,
   "id": "5760b56c",
   "metadata": {},
   "outputs": [],
   "source": [
    "pred = model.predict(own_data.reshape(1, 28, 28, 1), batch_size=100)"
   ]
  },
  {
   "cell_type": "code",
   "execution_count": 26,
   "id": "dc128b33",
   "metadata": {},
   "outputs": [
    {
     "name": "stdout",
     "output_type": "stream",
     "text": [
      "6\n"
     ]
    }
   ],
   "source": [
    "print(pred.argmax())"
   ]
  }
 ],
 "metadata": {
  "kernelspec": {
   "display_name": "Python 3 (ipykernel)",
   "language": "python",
   "name": "python3"
  },
  "language_info": {
   "codemirror_mode": {
    "name": "ipython",
    "version": 3
   },
   "file_extension": ".py",
   "mimetype": "text/x-python",
   "name": "python",
   "nbconvert_exporter": "python",
   "pygments_lexer": "ipython3",
   "version": "3.9.4"
  }
 },
 "nbformat": 4,
 "nbformat_minor": 5
}
